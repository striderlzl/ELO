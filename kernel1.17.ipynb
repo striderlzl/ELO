{
 "cells": [
  {
   "cell_type": "code",
   "execution_count": 1,
   "metadata": {
    "_cell_guid": "b1076dfc-b9ad-4769-8c92-a6c4dae69d19",
    "_uuid": "8f2839f25d086af736a60e9eeb907d3b93b6e0e5"
   },
   "outputs": [],
   "source": [
    "import numpy as np # linear algebra\n",
    "import pandas as pd # data processing, CSV file I/O (e.g. pd.read_csv)\n",
    "import datetime\n",
    "import os\n",
    "#print(os.listdir(\"../input\"))"
   ]
  },
  {
   "cell_type": "code",
   "execution_count": 2,
   "metadata": {
    "_uuid": "9498d926b708b09f5453df6b98d694f6f06a531a"
   },
   "outputs": [],
   "source": [
    "import time\n",
    "import gc"
   ]
  },
  {
   "cell_type": "code",
   "execution_count": 3,
   "metadata": {
    "_uuid": "f7a6ee42899e062807014c39630a6839886245f2"
   },
   "outputs": [
    {
     "name": "stderr",
     "output_type": "stream",
     "text": [
      "/Users/ziluli/anaconda3/envs/elo/lib/python3.6/site-packages/lightgbm/__init__.py:46: UserWarning: Starting from version 2.2.1, the library file in distribution wheels for macOS is built by the Apple Clang (Xcode_8.3.1) compiler.\n",
      "This means that in case of installing LightGBM from PyPI via the ``pip install lightgbm`` command, you don't need to install the gcc compiler anymore.\n",
      "Instead of that, you need to install the OpenMP library, which is required for running LightGBM on the system with the Apple Clang compiler.\n",
      "You can install the OpenMP library by the following command: ``brew install libomp``.\n",
      "  \"You can install the OpenMP library by the following command: ``brew install libomp``.\", UserWarning)\n"
     ]
    }
   ],
   "source": [
    "from sklearn.model_selection import StratifiedKFold, KFold\n",
    "from sklearn.metrics import mean_squared_error\n",
    "from sklearn.metrics import log_loss\n",
    "from sklearn.metrics import confusion_matrix\n",
    "from sklearn.metrics import mean_squared_error\n",
    "import lightgbm as lgb\n",
    "import seaborn as sns\n",
    "import matplotlib.pyplot as plt\n",
    "from sklearn.preprocessing import MinMaxScaler\n",
    "from sklearn.feature_selection import RFECV"
   ]
  },
  {
   "cell_type": "code",
   "execution_count": 6,
   "metadata": {
    "_cell_guid": "79c7e3d0-c299-4dcb-8224-4455121ee9b0",
    "_uuid": "d629ff2d2480ee46fbb7e2d37f6b5fab8052498a"
   },
   "outputs": [],
   "source": [
    "train = pd.read_csv('all/train.csv')"
   ]
  },
  {
   "cell_type": "code",
   "execution_count": 7,
   "metadata": {},
   "outputs": [],
   "source": [
    "test = pd.read_csv('all/test.csv')"
   ]
  },
  {
   "cell_type": "code",
   "execution_count": null,
   "metadata": {
    "_uuid": "98d0d50e5a08971637813ebc0e75f8c921fefede"
   },
   "outputs": [],
   "source": [
    "#nmt = pd.read_csv('../input/new_merchant_transactions.csv')\n",
    "#mct = pd.read_csv('../input/merchants.csv')"
   ]
  },
  {
   "cell_type": "code",
   "execution_count": 145,
   "metadata": {
    "_uuid": "0971ab646b27bdca5d2a05e0b1b29184a6446fd5"
   },
   "outputs": [],
   "source": [
    "ht = pd.read_csv('all/historical_transactions.csv')"
   ]
  },
  {
   "cell_type": "code",
   "execution_count": null,
   "metadata": {
    "_uuid": "bc5343a0099a3c612da34015ea4ce55e4726ccc3"
   },
   "outputs": [],
   "source": [
    "data_dict = pd.read_excel('../input/Data_Dictionary.xlsx', sheet_name='train')\n",
    "data_dict"
   ]
  },
  {
   "cell_type": "code",
   "execution_count": null,
   "metadata": {
    "_uuid": "291b8ebab1c4367d6c66b58bfc9e077cfa1c75fc"
   },
   "outputs": [],
   "source": [
    "train.head()"
   ]
  },
  {
   "cell_type": "code",
   "execution_count": 146,
   "metadata": {
    "_uuid": "816b9ebf7ac140e185387feeff22cd7addd6e39b"
   },
   "outputs": [],
   "source": [
    "def cal_time(x):\n",
    "    if isinstance(x['first_active_month'], str):\n",
    "        d1 = datetime.datetime.strptime(x['first_active_month'],'%Y-%m')\n",
    "        d2 = datetime.datetime.strptime('2018-12','%Y-%m')\n",
    "        delta = d2 - d1\n",
    "    else:\n",
    "        return float('nan')\n",
    "\n",
    "    \n",
    "    return int(delta.days/30)\n"
   ]
  },
  {
   "cell_type": "code",
   "execution_count": 147,
   "metadata": {
    "_uuid": "5efc59e6eeb1d1fa3692e92b5ba5c96da4d0b00a"
   },
   "outputs": [],
   "source": [
    "train['time'] = train.apply(cal_time,axis=1)"
   ]
  },
  {
   "cell_type": "code",
   "execution_count": 148,
   "metadata": {},
   "outputs": [],
   "source": [
    "test['time'] = test.apply(cal_time,axis=1)\n",
    "test.loc[11578,'time'] = 22"
   ]
  },
  {
   "cell_type": "code",
   "execution_count": null,
   "metadata": {
    "_uuid": "ab2971d97684520a5d5cf83ff266e395608f5e2f"
   },
   "outputs": [],
   "source": [
    "'''\n",
    "train_X = train[['feature_1','feature_2','feature_3','time']]\n",
    "train_y = train[['target']]\n",
    "test['time'] = test.apply(cal_time,axis=1)\n",
    "test_X = test[['feature_1','feature_2','feature_3','time']]\n",
    "test.loc[11578,'time'] = 22\n",
    "'''"
   ]
  },
  {
   "cell_type": "markdown",
   "metadata": {
    "_uuid": "f7e5443a28b71ed8d2e884dc5abcd91f28cc64bd"
   },
   "source": [
    "# historical_transactions"
   ]
  },
  {
   "cell_type": "code",
   "execution_count": null,
   "metadata": {
    "_uuid": "fba2948ef7ab0832e9234fa9bd151d105abf19fc"
   },
   "outputs": [],
   "source": [
    "ht.info()"
   ]
  },
  {
   "cell_type": "code",
   "execution_count": null,
   "metadata": {
    "_uuid": "aa3ceeec0910c3995d4b3481147a6decd9367784"
   },
   "outputs": [],
   "source": [
    "ht.head()"
   ]
  },
  {
   "cell_type": "code",
   "execution_count": null,
   "metadata": {
    "_uuid": "e1e11f978c8b3647e1ecff42fe3334ce8ec17b0e"
   },
   "outputs": [],
   "source": [
    "ht_dict = pd.read_excel('../input/Data_Dictionary.xlsx', sheet_name='history')\n",
    "ht_dict"
   ]
  },
  {
   "cell_type": "code",
   "execution_count": 149,
   "metadata": {
    "_uuid": "74ec306e42ce7322545ffee4fd9703fd66ce4d64"
   },
   "outputs": [],
   "source": [
    "ht['authorized_flag'] = ht.authorized_flag.map({'Y':1,'N':0})"
   ]
  },
  {
   "cell_type": "code",
   "execution_count": 150,
   "metadata": {
    "_uuid": "d96979b8e44c7a7f4a361f6656b9620702162eff"
   },
   "outputs": [],
   "source": [
    "ht['category_1'] = ht.category_1.map({'Y':1,'N':0})"
   ]
  },
  {
   "cell_type": "code",
   "execution_count": 151,
   "metadata": {
    "_uuid": "3348c7196a0b1d0b0910b2b010257ec941ada3aa"
   },
   "outputs": [],
   "source": [
    "ht['category_2']=ht['category_2'].fillna(0)"
   ]
  },
  {
   "cell_type": "code",
   "execution_count": 152,
   "metadata": {
    "_uuid": "fa4c7c8da477a4e372ff2247f460ed08608a0d22"
   },
   "outputs": [],
   "source": [
    "ht['category_3'] = ht.category_3.map({'A':0,'B':1,'C':2,'nan':3})"
   ]
  },
  {
   "cell_type": "code",
   "execution_count": 153,
   "metadata": {
    "_uuid": "c1ffe2adcbb353c63dbbe41e0b088dd073ad6606"
   },
   "outputs": [],
   "source": [
    "ht['category_3']=ht['category_3'].fillna(3)"
   ]
  },
  {
   "cell_type": "code",
   "execution_count": 154,
   "metadata": {},
   "outputs": [],
   "source": [
    "scaler = MinMaxScaler(copy = True, feature_range=(0,1))\n",
    "scaler.fit(np.array(ht['purchase_amount']).reshape(-1,1))\n",
    "ht['purchase_amount'] = scaler.transform(np.array(ht['purchase_amount']).reshape(-1,1))"
   ]
  },
  {
   "cell_type": "code",
   "execution_count": 155,
   "metadata": {
    "_uuid": "4b09c4688148bccec23f732b321850dde4611211"
   },
   "outputs": [],
   "source": [
    "import gc"
   ]
  },
  {
   "cell_type": "code",
   "execution_count": 156,
   "metadata": {
    "_uuid": "439e41b3572df0d8dc113ccdfe7d49eb1c53a89a"
   },
   "outputs": [
    {
     "data": {
      "text/html": [
       "<div>\n",
       "<style scoped>\n",
       "    .dataframe tbody tr th:only-of-type {\n",
       "        vertical-align: middle;\n",
       "    }\n",
       "\n",
       "    .dataframe tbody tr th {\n",
       "        vertical-align: top;\n",
       "    }\n",
       "\n",
       "    .dataframe thead th {\n",
       "        text-align: right;\n",
       "    }\n",
       "</style>\n",
       "<table border=\"1\" class=\"dataframe\">\n",
       "  <thead>\n",
       "    <tr style=\"text-align: right;\">\n",
       "      <th></th>\n",
       "      <th>authorized_flag</th>\n",
       "      <th>card_id</th>\n",
       "      <th>city_id</th>\n",
       "      <th>category_1</th>\n",
       "      <th>installments</th>\n",
       "      <th>category_3</th>\n",
       "      <th>merchant_category_id</th>\n",
       "      <th>merchant_id</th>\n",
       "      <th>month_lag</th>\n",
       "      <th>purchase_amount</th>\n",
       "      <th>purchase_date</th>\n",
       "      <th>category_2</th>\n",
       "      <th>state_id</th>\n",
       "      <th>subsector_id</th>\n",
       "    </tr>\n",
       "  </thead>\n",
       "  <tbody>\n",
       "    <tr>\n",
       "      <th>0</th>\n",
       "      <td>1</td>\n",
       "      <td>C_ID_4e6213e9bc</td>\n",
       "      <td>88</td>\n",
       "      <td>0</td>\n",
       "      <td>0</td>\n",
       "      <td>0.0</td>\n",
       "      <td>80</td>\n",
       "      <td>M_ID_e020e9b302</td>\n",
       "      <td>-8</td>\n",
       "      <td>7.250001e-09</td>\n",
       "      <td>2017-06-25 15:33:07</td>\n",
       "      <td>1.0</td>\n",
       "      <td>16</td>\n",
       "      <td>37</td>\n",
       "    </tr>\n",
       "    <tr>\n",
       "      <th>1</th>\n",
       "      <td>1</td>\n",
       "      <td>C_ID_4e6213e9bc</td>\n",
       "      <td>88</td>\n",
       "      <td>0</td>\n",
       "      <td>0</td>\n",
       "      <td>0.0</td>\n",
       "      <td>367</td>\n",
       "      <td>M_ID_86ec983688</td>\n",
       "      <td>-7</td>\n",
       "      <td>2.292501e-09</td>\n",
       "      <td>2017-07-15 12:10:45</td>\n",
       "      <td>1.0</td>\n",
       "      <td>16</td>\n",
       "      <td>16</td>\n",
       "    </tr>\n",
       "    <tr>\n",
       "      <th>2</th>\n",
       "      <td>1</td>\n",
       "      <td>C_ID_4e6213e9bc</td>\n",
       "      <td>88</td>\n",
       "      <td>0</td>\n",
       "      <td>0</td>\n",
       "      <td>0.0</td>\n",
       "      <td>80</td>\n",
       "      <td>M_ID_979ed661fc</td>\n",
       "      <td>-6</td>\n",
       "      <td>4.412501e-09</td>\n",
       "      <td>2017-08-09 22:04:29</td>\n",
       "      <td>1.0</td>\n",
       "      <td>16</td>\n",
       "      <td>37</td>\n",
       "    </tr>\n",
       "    <tr>\n",
       "      <th>3</th>\n",
       "      <td>1</td>\n",
       "      <td>C_ID_4e6213e9bc</td>\n",
       "      <td>88</td>\n",
       "      <td>0</td>\n",
       "      <td>0</td>\n",
       "      <td>0.0</td>\n",
       "      <td>560</td>\n",
       "      <td>M_ID_e6d5ae8ea6</td>\n",
       "      <td>-5</td>\n",
       "      <td>1.922500e-09</td>\n",
       "      <td>2017-09-02 10:06:26</td>\n",
       "      <td>1.0</td>\n",
       "      <td>16</td>\n",
       "      <td>34</td>\n",
       "    </tr>\n",
       "    <tr>\n",
       "      <th>4</th>\n",
       "      <td>1</td>\n",
       "      <td>C_ID_4e6213e9bc</td>\n",
       "      <td>88</td>\n",
       "      <td>0</td>\n",
       "      <td>0</td>\n",
       "      <td>0.0</td>\n",
       "      <td>80</td>\n",
       "      <td>M_ID_e020e9b302</td>\n",
       "      <td>-11</td>\n",
       "      <td>4.000000e-09</td>\n",
       "      <td>2017-03-10 01:14:19</td>\n",
       "      <td>1.0</td>\n",
       "      <td>16</td>\n",
       "      <td>37</td>\n",
       "    </tr>\n",
       "  </tbody>\n",
       "</table>\n",
       "</div>"
      ],
      "text/plain": [
       "   authorized_flag          card_id  city_id  category_1  installments  \\\n",
       "0                1  C_ID_4e6213e9bc       88           0             0   \n",
       "1                1  C_ID_4e6213e9bc       88           0             0   \n",
       "2                1  C_ID_4e6213e9bc       88           0             0   \n",
       "3                1  C_ID_4e6213e9bc       88           0             0   \n",
       "4                1  C_ID_4e6213e9bc       88           0             0   \n",
       "\n",
       "   category_3  merchant_category_id      merchant_id  month_lag  \\\n",
       "0         0.0                    80  M_ID_e020e9b302         -8   \n",
       "1         0.0                   367  M_ID_86ec983688         -7   \n",
       "2         0.0                    80  M_ID_979ed661fc         -6   \n",
       "3         0.0                   560  M_ID_e6d5ae8ea6         -5   \n",
       "4         0.0                    80  M_ID_e020e9b302        -11   \n",
       "\n",
       "   purchase_amount        purchase_date  category_2  state_id  subsector_id  \n",
       "0     7.250001e-09  2017-06-25 15:33:07         1.0        16            37  \n",
       "1     2.292501e-09  2017-07-15 12:10:45         1.0        16            16  \n",
       "2     4.412501e-09  2017-08-09 22:04:29         1.0        16            37  \n",
       "3     1.922500e-09  2017-09-02 10:06:26         1.0        16            34  \n",
       "4     4.000000e-09  2017-03-10 01:14:19         1.0        16            37  "
      ]
     },
     "execution_count": 156,
     "metadata": {},
     "output_type": "execute_result"
    }
   ],
   "source": [
    "ht.head()"
   ]
  },
  {
   "cell_type": "code",
   "execution_count": 157,
   "metadata": {
    "_uuid": "3d28d31494bd0f6d6cf1d1b0cfca2ea7e8c3e218"
   },
   "outputs": [],
   "source": [
    "def feature_eng11(data,prefix):\n",
    "    data['purchase_date'] = pd.to_datetime(data['purchase_date'])\n",
    "    data['purchase_month'] = data['purchase_date'].dt.month\n",
    "    #data['month_diff'] = ((datetime.datetime.today() - data['purchase_date']).dt.days)//30\n",
    "    #data['month_diff'] += data['month_lag']\n",
    "    data['installments'] = data['installments'].astype(int)\n",
    "    data.loc[:, 'purchase_date'] = pd.DatetimeIndex(data['purchase_date']). \\\n",
    "                                        astype(np.int64) * 1e-9\n",
    "    data = pd.get_dummies(data, columns=['category_2', 'category_3'])\n",
    "    agg_func = {\n",
    "        'authorized_flag': ['sum', 'mean'],\n",
    "        'category_1': ['sum', 'mean'],\n",
    "        'category_2_0.0': ['mean', 'sum'],\n",
    "        'category_2_1.0': ['mean', 'sum'],\n",
    "        'category_2_2.0': ['mean', 'sum'],\n",
    "        'category_2_3.0': ['mean', 'sum'],\n",
    "        'category_2_4.0': ['mean', 'sum'],\n",
    "        'category_2_5.0': ['mean', 'sum'],\n",
    "        'category_3_0.0': ['sum', 'mean'],\n",
    "        'category_3_1.0': ['sum', 'mean'],\n",
    "        'category_3_2.0': ['sum', 'mean'],\n",
    "        'category_3_3.0': ['sum', 'mean'],\n",
    "        'purchase_amount': ['sum', 'mean', 'max', 'min', 'std'],\n",
    "        'installments': ['sum', 'mean', 'max', 'min', 'std'],\n",
    "        'purchase_month': ['mean', 'max', 'min', 'std'],\n",
    "        'purchase_date': [np.ptp, 'max', 'min'],\n",
    "        'month_lag': ['min', 'max'],\n",
    "        'merchant_category_id': ['nunique'],\n",
    "        'state_id': ['nunique'],\n",
    "        'subsector_id': ['nunique'],\n",
    "        'city_id': ['nunique'],\n",
    "    }\n",
    "    agg_trans = data.groupby(['card_id']).agg(agg_func)\n",
    "    agg_trans.columns = [prefix + '_'.join(col).strip() for col in agg_trans.columns.values]\n",
    "    agg_trans.reset_index(inplace=True)\n",
    "\n",
    "    df = (data.groupby('card_id')\n",
    "          .size()\n",
    "          .reset_index(name='{}transactions_count'.format(prefix)))\n",
    "\n",
    "    agg_trans = pd.merge(df, agg_trans, on='card_id', how='left')\n",
    "\n",
    "    return agg_trans"
   ]
  },
  {
   "cell_type": "code",
   "execution_count": 158,
   "metadata": {
    "_uuid": "a8fc78d1fe43634c631faf57a9e14042ed21c89b"
   },
   "outputs": [
    {
     "name": "stdout",
     "output_type": "stream",
     "text": [
      "CPU times: user 1min 47s, sys: 1min 5s, total: 2min 52s\n",
      "Wall time: 2min 34s\n"
     ]
    }
   ],
   "source": [
    "%%time\n",
    "history = feature_eng11(ht, prefix='hist_')"
   ]
  },
  {
   "cell_type": "code",
   "execution_count": 159,
   "metadata": {
    "_uuid": "86d04759c4d11610fb03f99680bff01b0e969b0f"
   },
   "outputs": [
    {
     "data": {
      "text/html": [
       "<div>\n",
       "<style scoped>\n",
       "    .dataframe tbody tr th:only-of-type {\n",
       "        vertical-align: middle;\n",
       "    }\n",
       "\n",
       "    .dataframe tbody tr th {\n",
       "        vertical-align: top;\n",
       "    }\n",
       "\n",
       "    .dataframe thead th {\n",
       "        text-align: right;\n",
       "    }\n",
       "</style>\n",
       "<table border=\"1\" class=\"dataframe\">\n",
       "  <thead>\n",
       "    <tr style=\"text-align: right;\">\n",
       "      <th></th>\n",
       "      <th>card_id</th>\n",
       "      <th>hist_transactions_count</th>\n",
       "      <th>hist_authorized_flag_sum</th>\n",
       "      <th>hist_authorized_flag_mean</th>\n",
       "      <th>hist_category_1_sum</th>\n",
       "      <th>hist_category_1_mean</th>\n",
       "      <th>hist_category_2_0.0_mean</th>\n",
       "      <th>hist_category_2_0.0_sum</th>\n",
       "      <th>hist_category_2_1.0_mean</th>\n",
       "      <th>hist_category_2_1.0_sum</th>\n",
       "      <th>...</th>\n",
       "      <th>hist_purchase_month_std</th>\n",
       "      <th>hist_purchase_date_ptp</th>\n",
       "      <th>hist_purchase_date_max</th>\n",
       "      <th>hist_purchase_date_min</th>\n",
       "      <th>hist_month_lag_min</th>\n",
       "      <th>hist_month_lag_max</th>\n",
       "      <th>hist_merchant_category_id_nunique</th>\n",
       "      <th>hist_state_id_nunique</th>\n",
       "      <th>hist_subsector_id_nunique</th>\n",
       "      <th>hist_city_id_nunique</th>\n",
       "    </tr>\n",
       "  </thead>\n",
       "  <tbody>\n",
       "    <tr>\n",
       "      <th>0</th>\n",
       "      <td>C_ID_00007093c1</td>\n",
       "      <td>149</td>\n",
       "      <td>114</td>\n",
       "      <td>0.765101</td>\n",
       "      <td>28</td>\n",
       "      <td>0.187919</td>\n",
       "      <td>0.187919</td>\n",
       "      <td>28.0</td>\n",
       "      <td>0.000000</td>\n",
       "      <td>0.0</td>\n",
       "      <td>...</td>\n",
       "      <td>3.303308</td>\n",
       "      <td>32627654.0</td>\n",
       "      <td>1.519708e+09</td>\n",
       "      <td>1.487081e+09</td>\n",
       "      <td>-12</td>\n",
       "      <td>0</td>\n",
       "      <td>18</td>\n",
       "      <td>3</td>\n",
       "      <td>13</td>\n",
       "      <td>4</td>\n",
       "    </tr>\n",
       "    <tr>\n",
       "      <th>1</th>\n",
       "      <td>C_ID_0001238066</td>\n",
       "      <td>123</td>\n",
       "      <td>120</td>\n",
       "      <td>0.975610</td>\n",
       "      <td>2</td>\n",
       "      <td>0.016260</td>\n",
       "      <td>0.065041</td>\n",
       "      <td>8.0</td>\n",
       "      <td>0.772358</td>\n",
       "      <td>95.0</td>\n",
       "      <td>...</td>\n",
       "      <td>4.895850</td>\n",
       "      <td>13110825.0</td>\n",
       "      <td>1.519748e+09</td>\n",
       "      <td>1.506638e+09</td>\n",
       "      <td>-5</td>\n",
       "      <td>0</td>\n",
       "      <td>29</td>\n",
       "      <td>6</td>\n",
       "      <td>17</td>\n",
       "      <td>18</td>\n",
       "    </tr>\n",
       "    <tr>\n",
       "      <th>2</th>\n",
       "      <td>C_ID_0001506ef0</td>\n",
       "      <td>66</td>\n",
       "      <td>62</td>\n",
       "      <td>0.939394</td>\n",
       "      <td>0</td>\n",
       "      <td>0.000000</td>\n",
       "      <td>0.000000</td>\n",
       "      <td>0.0</td>\n",
       "      <td>0.030303</td>\n",
       "      <td>2.0</td>\n",
       "      <td>...</td>\n",
       "      <td>4.524190</td>\n",
       "      <td>34460275.0</td>\n",
       "      <td>1.518871e+09</td>\n",
       "      <td>1.484411e+09</td>\n",
       "      <td>-13</td>\n",
       "      <td>0</td>\n",
       "      <td>19</td>\n",
       "      <td>2</td>\n",
       "      <td>12</td>\n",
       "      <td>3</td>\n",
       "    </tr>\n",
       "    <tr>\n",
       "      <th>3</th>\n",
       "      <td>C_ID_0001793786</td>\n",
       "      <td>216</td>\n",
       "      <td>189</td>\n",
       "      <td>0.875000</td>\n",
       "      <td>2</td>\n",
       "      <td>0.009259</td>\n",
       "      <td>0.527778</td>\n",
       "      <td>114.0</td>\n",
       "      <td>0.050926</td>\n",
       "      <td>11.0</td>\n",
       "      <td>...</td>\n",
       "      <td>2.306373</td>\n",
       "      <td>24487497.0</td>\n",
       "      <td>1.509481e+09</td>\n",
       "      <td>1.484994e+09</td>\n",
       "      <td>-9</td>\n",
       "      <td>0</td>\n",
       "      <td>48</td>\n",
       "      <td>4</td>\n",
       "      <td>24</td>\n",
       "      <td>10</td>\n",
       "    </tr>\n",
       "    <tr>\n",
       "      <th>4</th>\n",
       "      <td>C_ID_000183fdda</td>\n",
       "      <td>144</td>\n",
       "      <td>137</td>\n",
       "      <td>0.951389</td>\n",
       "      <td>4</td>\n",
       "      <td>0.027778</td>\n",
       "      <td>0.027778</td>\n",
       "      <td>4.0</td>\n",
       "      <td>0.048611</td>\n",
       "      <td>7.0</td>\n",
       "      <td>...</td>\n",
       "      <td>4.439959</td>\n",
       "      <td>17492874.0</td>\n",
       "      <td>1.519592e+09</td>\n",
       "      <td>1.502099e+09</td>\n",
       "      <td>-6</td>\n",
       "      <td>0</td>\n",
       "      <td>36</td>\n",
       "      <td>7</td>\n",
       "      <td>21</td>\n",
       "      <td>9</td>\n",
       "    </tr>\n",
       "  </tbody>\n",
       "</table>\n",
       "<p>5 rows × 49 columns</p>\n",
       "</div>"
      ],
      "text/plain": [
       "           card_id  hist_transactions_count  hist_authorized_flag_sum  \\\n",
       "0  C_ID_00007093c1                      149                       114   \n",
       "1  C_ID_0001238066                      123                       120   \n",
       "2  C_ID_0001506ef0                       66                        62   \n",
       "3  C_ID_0001793786                      216                       189   \n",
       "4  C_ID_000183fdda                      144                       137   \n",
       "\n",
       "   hist_authorized_flag_mean  hist_category_1_sum  hist_category_1_mean  \\\n",
       "0                   0.765101                   28              0.187919   \n",
       "1                   0.975610                    2              0.016260   \n",
       "2                   0.939394                    0              0.000000   \n",
       "3                   0.875000                    2              0.009259   \n",
       "4                   0.951389                    4              0.027778   \n",
       "\n",
       "   hist_category_2_0.0_mean  hist_category_2_0.0_sum  \\\n",
       "0                  0.187919                     28.0   \n",
       "1                  0.065041                      8.0   \n",
       "2                  0.000000                      0.0   \n",
       "3                  0.527778                    114.0   \n",
       "4                  0.027778                      4.0   \n",
       "\n",
       "   hist_category_2_1.0_mean  hist_category_2_1.0_sum          ...           \\\n",
       "0                  0.000000                      0.0          ...            \n",
       "1                  0.772358                     95.0          ...            \n",
       "2                  0.030303                      2.0          ...            \n",
       "3                  0.050926                     11.0          ...            \n",
       "4                  0.048611                      7.0          ...            \n",
       "\n",
       "   hist_purchase_month_std  hist_purchase_date_ptp  hist_purchase_date_max  \\\n",
       "0                 3.303308              32627654.0            1.519708e+09   \n",
       "1                 4.895850              13110825.0            1.519748e+09   \n",
       "2                 4.524190              34460275.0            1.518871e+09   \n",
       "3                 2.306373              24487497.0            1.509481e+09   \n",
       "4                 4.439959              17492874.0            1.519592e+09   \n",
       "\n",
       "   hist_purchase_date_min  hist_month_lag_min  hist_month_lag_max  \\\n",
       "0            1.487081e+09                 -12                   0   \n",
       "1            1.506638e+09                  -5                   0   \n",
       "2            1.484411e+09                 -13                   0   \n",
       "3            1.484994e+09                  -9                   0   \n",
       "4            1.502099e+09                  -6                   0   \n",
       "\n",
       "   hist_merchant_category_id_nunique  hist_state_id_nunique  \\\n",
       "0                                 18                      3   \n",
       "1                                 29                      6   \n",
       "2                                 19                      2   \n",
       "3                                 48                      4   \n",
       "4                                 36                      7   \n",
       "\n",
       "   hist_subsector_id_nunique  hist_city_id_nunique  \n",
       "0                         13                     4  \n",
       "1                         17                    18  \n",
       "2                         12                     3  \n",
       "3                         24                    10  \n",
       "4                         21                     9  \n",
       "\n",
       "[5 rows x 49 columns]"
      ]
     },
     "execution_count": 159,
     "metadata": {},
     "output_type": "execute_result"
    }
   ],
   "source": [
    "history.head()"
   ]
  },
  {
   "cell_type": "code",
   "execution_count": 160,
   "metadata": {
    "_uuid": "1dfa994c9d615a3649e61ed597e7832c5e61aaed"
   },
   "outputs": [],
   "source": [
    "temp = ht.groupby(['card_id']).apply(lambda x:x['city_id'].value_counts().idxmax())"
   ]
  },
  {
   "cell_type": "code",
   "execution_count": 161,
   "metadata": {
    "_uuid": "4abb5077fd6f90d0763e1c5b1325c5df988eb415"
   },
   "outputs": [],
   "source": [
    "temp2=ht.groupby(['card_id']).apply(lambda x:x['state_id'].value_counts().idxmax())"
   ]
  },
  {
   "cell_type": "code",
   "execution_count": 162,
   "metadata": {
    "_uuid": "a2db234664768596a7819c591967e766465ef670"
   },
   "outputs": [],
   "source": [
    "temp3=ht.groupby(['card_id']).apply(lambda x:x['subsector_id'].value_counts().idxmax())"
   ]
  },
  {
   "cell_type": "code",
   "execution_count": 163,
   "metadata": {
    "_uuid": "288dd66c7579b4d7794ada9a98bb16143eee8c21"
   },
   "outputs": [],
   "source": [
    "abc = pd.DataFrame(temp,columns=['hist_city_id'])\n",
    "history_ = pd.merge(history, abc, on='card_id', how='left')"
   ]
  },
  {
   "cell_type": "code",
   "execution_count": 164,
   "metadata": {
    "_uuid": "7c869906e5427bf9748120f7613437e5be7234af"
   },
   "outputs": [],
   "source": [
    "abc = pd.DataFrame(temp2,columns=['hist_state_id'])\n",
    "history_ = pd.merge(history_, abc, on='card_id', how='left')"
   ]
  },
  {
   "cell_type": "code",
   "execution_count": 165,
   "metadata": {
    "_uuid": "fcf6df77f536f60a028bbc7917af8265593417e8"
   },
   "outputs": [],
   "source": [
    "abc = pd.DataFrame(temp3,columns=['hist_sub_id'])\n",
    "history_ = pd.merge(history_, abc, on='card_id', how='left')"
   ]
  },
  {
   "cell_type": "code",
   "execution_count": 170,
   "metadata": {},
   "outputs": [
    {
     "data": {
      "text/html": [
       "<div>\n",
       "<style scoped>\n",
       "    .dataframe tbody tr th:only-of-type {\n",
       "        vertical-align: middle;\n",
       "    }\n",
       "\n",
       "    .dataframe tbody tr th {\n",
       "        vertical-align: top;\n",
       "    }\n",
       "\n",
       "    .dataframe thead th {\n",
       "        text-align: right;\n",
       "    }\n",
       "</style>\n",
       "<table border=\"1\" class=\"dataframe\">\n",
       "  <thead>\n",
       "    <tr style=\"text-align: right;\">\n",
       "      <th></th>\n",
       "      <th>card_id</th>\n",
       "      <th>hist_transactions_count</th>\n",
       "      <th>hist_authorized_flag_sum</th>\n",
       "      <th>hist_authorized_flag_mean</th>\n",
       "      <th>hist_category_1_sum</th>\n",
       "      <th>hist_category_1_mean</th>\n",
       "      <th>hist_category_2_0.0_mean</th>\n",
       "      <th>hist_category_2_0.0_sum</th>\n",
       "      <th>hist_category_2_1.0_mean</th>\n",
       "      <th>hist_category_2_1.0_sum</th>\n",
       "      <th>...</th>\n",
       "      <th>hist_purchase_date_min</th>\n",
       "      <th>hist_month_lag_min</th>\n",
       "      <th>hist_month_lag_max</th>\n",
       "      <th>hist_merchant_category_id_nunique</th>\n",
       "      <th>hist_state_id_nunique</th>\n",
       "      <th>hist_subsector_id_nunique</th>\n",
       "      <th>hist_city_id_nunique</th>\n",
       "      <th>hist_city_id</th>\n",
       "      <th>hist_state_id</th>\n",
       "      <th>hist_sub_id</th>\n",
       "    </tr>\n",
       "  </thead>\n",
       "  <tbody>\n",
       "    <tr>\n",
       "      <th>0</th>\n",
       "      <td>C_ID_00007093c1</td>\n",
       "      <td>149</td>\n",
       "      <td>114</td>\n",
       "      <td>0.765101</td>\n",
       "      <td>28</td>\n",
       "      <td>0.187919</td>\n",
       "      <td>0.187919</td>\n",
       "      <td>28.0</td>\n",
       "      <td>0.000000</td>\n",
       "      <td>0.0</td>\n",
       "      <td>...</td>\n",
       "      <td>1.487081e+09</td>\n",
       "      <td>-12</td>\n",
       "      <td>0</td>\n",
       "      <td>18</td>\n",
       "      <td>3</td>\n",
       "      <td>13</td>\n",
       "      <td>4</td>\n",
       "      <td>244</td>\n",
       "      <td>2</td>\n",
       "      <td>19</td>\n",
       "    </tr>\n",
       "    <tr>\n",
       "      <th>1</th>\n",
       "      <td>C_ID_0001238066</td>\n",
       "      <td>123</td>\n",
       "      <td>120</td>\n",
       "      <td>0.975610</td>\n",
       "      <td>2</td>\n",
       "      <td>0.016260</td>\n",
       "      <td>0.065041</td>\n",
       "      <td>8.0</td>\n",
       "      <td>0.772358</td>\n",
       "      <td>95.0</td>\n",
       "      <td>...</td>\n",
       "      <td>1.506638e+09</td>\n",
       "      <td>-5</td>\n",
       "      <td>0</td>\n",
       "      <td>29</td>\n",
       "      <td>6</td>\n",
       "      <td>17</td>\n",
       "      <td>18</td>\n",
       "      <td>314</td>\n",
       "      <td>9</td>\n",
       "      <td>19</td>\n",
       "    </tr>\n",
       "    <tr>\n",
       "      <th>2</th>\n",
       "      <td>C_ID_0001506ef0</td>\n",
       "      <td>66</td>\n",
       "      <td>62</td>\n",
       "      <td>0.939394</td>\n",
       "      <td>0</td>\n",
       "      <td>0.000000</td>\n",
       "      <td>0.000000</td>\n",
       "      <td>0.0</td>\n",
       "      <td>0.030303</td>\n",
       "      <td>2.0</td>\n",
       "      <td>...</td>\n",
       "      <td>1.484411e+09</td>\n",
       "      <td>-13</td>\n",
       "      <td>0</td>\n",
       "      <td>19</td>\n",
       "      <td>2</td>\n",
       "      <td>12</td>\n",
       "      <td>3</td>\n",
       "      <td>137</td>\n",
       "      <td>19</td>\n",
       "      <td>33</td>\n",
       "    </tr>\n",
       "    <tr>\n",
       "      <th>3</th>\n",
       "      <td>C_ID_0001793786</td>\n",
       "      <td>216</td>\n",
       "      <td>189</td>\n",
       "      <td>0.875000</td>\n",
       "      <td>2</td>\n",
       "      <td>0.009259</td>\n",
       "      <td>0.527778</td>\n",
       "      <td>114.0</td>\n",
       "      <td>0.050926</td>\n",
       "      <td>11.0</td>\n",
       "      <td>...</td>\n",
       "      <td>1.484994e+09</td>\n",
       "      <td>-9</td>\n",
       "      <td>0</td>\n",
       "      <td>48</td>\n",
       "      <td>4</td>\n",
       "      <td>24</td>\n",
       "      <td>10</td>\n",
       "      <td>179</td>\n",
       "      <td>-1</td>\n",
       "      <td>37</td>\n",
       "    </tr>\n",
       "    <tr>\n",
       "      <th>4</th>\n",
       "      <td>C_ID_000183fdda</td>\n",
       "      <td>144</td>\n",
       "      <td>137</td>\n",
       "      <td>0.951389</td>\n",
       "      <td>4</td>\n",
       "      <td>0.027778</td>\n",
       "      <td>0.027778</td>\n",
       "      <td>4.0</td>\n",
       "      <td>0.048611</td>\n",
       "      <td>7.0</td>\n",
       "      <td>...</td>\n",
       "      <td>1.502099e+09</td>\n",
       "      <td>-6</td>\n",
       "      <td>0</td>\n",
       "      <td>36</td>\n",
       "      <td>7</td>\n",
       "      <td>21</td>\n",
       "      <td>9</td>\n",
       "      <td>161</td>\n",
       "      <td>3</td>\n",
       "      <td>16</td>\n",
       "    </tr>\n",
       "  </tbody>\n",
       "</table>\n",
       "<p>5 rows × 52 columns</p>\n",
       "</div>"
      ],
      "text/plain": [
       "           card_id  hist_transactions_count  hist_authorized_flag_sum  \\\n",
       "0  C_ID_00007093c1                      149                       114   \n",
       "1  C_ID_0001238066                      123                       120   \n",
       "2  C_ID_0001506ef0                       66                        62   \n",
       "3  C_ID_0001793786                      216                       189   \n",
       "4  C_ID_000183fdda                      144                       137   \n",
       "\n",
       "   hist_authorized_flag_mean  hist_category_1_sum  hist_category_1_mean  \\\n",
       "0                   0.765101                   28              0.187919   \n",
       "1                   0.975610                    2              0.016260   \n",
       "2                   0.939394                    0              0.000000   \n",
       "3                   0.875000                    2              0.009259   \n",
       "4                   0.951389                    4              0.027778   \n",
       "\n",
       "   hist_category_2_0.0_mean  hist_category_2_0.0_sum  \\\n",
       "0                  0.187919                     28.0   \n",
       "1                  0.065041                      8.0   \n",
       "2                  0.000000                      0.0   \n",
       "3                  0.527778                    114.0   \n",
       "4                  0.027778                      4.0   \n",
       "\n",
       "   hist_category_2_1.0_mean  hist_category_2_1.0_sum     ...       \\\n",
       "0                  0.000000                      0.0     ...        \n",
       "1                  0.772358                     95.0     ...        \n",
       "2                  0.030303                      2.0     ...        \n",
       "3                  0.050926                     11.0     ...        \n",
       "4                  0.048611                      7.0     ...        \n",
       "\n",
       "   hist_purchase_date_min  hist_month_lag_min  hist_month_lag_max  \\\n",
       "0            1.487081e+09                 -12                   0   \n",
       "1            1.506638e+09                  -5                   0   \n",
       "2            1.484411e+09                 -13                   0   \n",
       "3            1.484994e+09                  -9                   0   \n",
       "4            1.502099e+09                  -6                   0   \n",
       "\n",
       "   hist_merchant_category_id_nunique  hist_state_id_nunique  \\\n",
       "0                                 18                      3   \n",
       "1                                 29                      6   \n",
       "2                                 19                      2   \n",
       "3                                 48                      4   \n",
       "4                                 36                      7   \n",
       "\n",
       "   hist_subsector_id_nunique  hist_city_id_nunique  hist_city_id  \\\n",
       "0                         13                     4           244   \n",
       "1                         17                    18           314   \n",
       "2                         12                     3           137   \n",
       "3                         24                    10           179   \n",
       "4                         21                     9           161   \n",
       "\n",
       "   hist_state_id  hist_sub_id  \n",
       "0              2           19  \n",
       "1              9           19  \n",
       "2             19           33  \n",
       "3             -1           37  \n",
       "4              3           16  \n",
       "\n",
       "[5 rows x 52 columns]"
      ]
     },
     "execution_count": 170,
     "metadata": {},
     "output_type": "execute_result"
    }
   ],
   "source": [
    "history_.head()"
   ]
  },
  {
   "cell_type": "code",
   "execution_count": 173,
   "metadata": {},
   "outputs": [
    {
     "data": {
      "text/html": [
       "<div>\n",
       "<style scoped>\n",
       "    .dataframe tbody tr th:only-of-type {\n",
       "        vertical-align: middle;\n",
       "    }\n",
       "\n",
       "    .dataframe tbody tr th {\n",
       "        vertical-align: top;\n",
       "    }\n",
       "\n",
       "    .dataframe thead th {\n",
       "        text-align: right;\n",
       "    }\n",
       "</style>\n",
       "<table border=\"1\" class=\"dataframe\">\n",
       "  <thead>\n",
       "    <tr style=\"text-align: right;\">\n",
       "      <th></th>\n",
       "      <th>first_active_month</th>\n",
       "      <th>card_id</th>\n",
       "      <th>feature_1</th>\n",
       "      <th>feature_2</th>\n",
       "      <th>feature_3</th>\n",
       "      <th>target</th>\n",
       "      <th>time</th>\n",
       "      <th>hist_transactions_count</th>\n",
       "      <th>hist_authorized_flag_sum</th>\n",
       "      <th>hist_authorized_flag_mean</th>\n",
       "      <th>...</th>\n",
       "      <th>hist_purchase_date_min</th>\n",
       "      <th>hist_month_lag_min</th>\n",
       "      <th>hist_month_lag_max</th>\n",
       "      <th>hist_merchant_category_id_nunique</th>\n",
       "      <th>hist_state_id_nunique</th>\n",
       "      <th>hist_subsector_id_nunique</th>\n",
       "      <th>hist_city_id_nunique</th>\n",
       "      <th>hist_city_id</th>\n",
       "      <th>hist_state_id</th>\n",
       "      <th>hist_sub_id</th>\n",
       "    </tr>\n",
       "  </thead>\n",
       "  <tbody>\n",
       "    <tr>\n",
       "      <th>0</th>\n",
       "      <td>2017-06</td>\n",
       "      <td>C_ID_92a2005557</td>\n",
       "      <td>5</td>\n",
       "      <td>2</td>\n",
       "      <td>1</td>\n",
       "      <td>-0.820283</td>\n",
       "      <td>18</td>\n",
       "      <td>260</td>\n",
       "      <td>247</td>\n",
       "      <td>0.950000</td>\n",
       "      <td>...</td>\n",
       "      <td>1.498573e+09</td>\n",
       "      <td>-8</td>\n",
       "      <td>0</td>\n",
       "      <td>41</td>\n",
       "      <td>3</td>\n",
       "      <td>21</td>\n",
       "      <td>7</td>\n",
       "      <td>69</td>\n",
       "      <td>9</td>\n",
       "      <td>34</td>\n",
       "    </tr>\n",
       "    <tr>\n",
       "      <th>1</th>\n",
       "      <td>2017-01</td>\n",
       "      <td>C_ID_3d0044924f</td>\n",
       "      <td>4</td>\n",
       "      <td>1</td>\n",
       "      <td>0</td>\n",
       "      <td>0.392913</td>\n",
       "      <td>23</td>\n",
       "      <td>350</td>\n",
       "      <td>339</td>\n",
       "      <td>0.968571</td>\n",
       "      <td>...</td>\n",
       "      <td>1.483720e+09</td>\n",
       "      <td>-12</td>\n",
       "      <td>0</td>\n",
       "      <td>57</td>\n",
       "      <td>3</td>\n",
       "      <td>24</td>\n",
       "      <td>9</td>\n",
       "      <td>69</td>\n",
       "      <td>9</td>\n",
       "      <td>34</td>\n",
       "    </tr>\n",
       "    <tr>\n",
       "      <th>2</th>\n",
       "      <td>2016-08</td>\n",
       "      <td>C_ID_d639edf6cd</td>\n",
       "      <td>2</td>\n",
       "      <td>2</td>\n",
       "      <td>0</td>\n",
       "      <td>0.688056</td>\n",
       "      <td>28</td>\n",
       "      <td>43</td>\n",
       "      <td>41</td>\n",
       "      <td>0.953488</td>\n",
       "      <td>...</td>\n",
       "      <td>1.484123e+09</td>\n",
       "      <td>-13</td>\n",
       "      <td>0</td>\n",
       "      <td>8</td>\n",
       "      <td>2</td>\n",
       "      <td>7</td>\n",
       "      <td>5</td>\n",
       "      <td>143</td>\n",
       "      <td>5</td>\n",
       "      <td>33</td>\n",
       "    </tr>\n",
       "    <tr>\n",
       "      <th>3</th>\n",
       "      <td>2017-09</td>\n",
       "      <td>C_ID_186d6a6901</td>\n",
       "      <td>4</td>\n",
       "      <td>3</td>\n",
       "      <td>0</td>\n",
       "      <td>0.142495</td>\n",
       "      <td>15</td>\n",
       "      <td>77</td>\n",
       "      <td>77</td>\n",
       "      <td>1.000000</td>\n",
       "      <td>...</td>\n",
       "      <td>1.506443e+09</td>\n",
       "      <td>-5</td>\n",
       "      <td>0</td>\n",
       "      <td>25</td>\n",
       "      <td>5</td>\n",
       "      <td>13</td>\n",
       "      <td>7</td>\n",
       "      <td>17</td>\n",
       "      <td>22</td>\n",
       "      <td>37</td>\n",
       "    </tr>\n",
       "    <tr>\n",
       "      <th>4</th>\n",
       "      <td>2017-11</td>\n",
       "      <td>C_ID_cdbd2c0db2</td>\n",
       "      <td>1</td>\n",
       "      <td>3</td>\n",
       "      <td>0</td>\n",
       "      <td>-0.159749</td>\n",
       "      <td>13</td>\n",
       "      <td>133</td>\n",
       "      <td>128</td>\n",
       "      <td>0.962406</td>\n",
       "      <td>...</td>\n",
       "      <td>1.510445e+09</td>\n",
       "      <td>-3</td>\n",
       "      <td>0</td>\n",
       "      <td>26</td>\n",
       "      <td>6</td>\n",
       "      <td>17</td>\n",
       "      <td>6</td>\n",
       "      <td>17</td>\n",
       "      <td>22</td>\n",
       "      <td>37</td>\n",
       "    </tr>\n",
       "  </tbody>\n",
       "</table>\n",
       "<p>5 rows × 58 columns</p>\n",
       "</div>"
      ],
      "text/plain": [
       "  first_active_month          card_id  feature_1  feature_2  feature_3  \\\n",
       "0            2017-06  C_ID_92a2005557          5          2          1   \n",
       "1            2017-01  C_ID_3d0044924f          4          1          0   \n",
       "2            2016-08  C_ID_d639edf6cd          2          2          0   \n",
       "3            2017-09  C_ID_186d6a6901          4          3          0   \n",
       "4            2017-11  C_ID_cdbd2c0db2          1          3          0   \n",
       "\n",
       "     target  time  hist_transactions_count  hist_authorized_flag_sum  \\\n",
       "0 -0.820283    18                      260                       247   \n",
       "1  0.392913    23                      350                       339   \n",
       "2  0.688056    28                       43                        41   \n",
       "3  0.142495    15                       77                        77   \n",
       "4 -0.159749    13                      133                       128   \n",
       "\n",
       "   hist_authorized_flag_mean     ...       hist_purchase_date_min  \\\n",
       "0                   0.950000     ...                 1.498573e+09   \n",
       "1                   0.968571     ...                 1.483720e+09   \n",
       "2                   0.953488     ...                 1.484123e+09   \n",
       "3                   1.000000     ...                 1.506443e+09   \n",
       "4                   0.962406     ...                 1.510445e+09   \n",
       "\n",
       "   hist_month_lag_min  hist_month_lag_max  hist_merchant_category_id_nunique  \\\n",
       "0                  -8                   0                                 41   \n",
       "1                 -12                   0                                 57   \n",
       "2                 -13                   0                                  8   \n",
       "3                  -5                   0                                 25   \n",
       "4                  -3                   0                                 26   \n",
       "\n",
       "   hist_state_id_nunique  hist_subsector_id_nunique  hist_city_id_nunique  \\\n",
       "0                      3                         21                     7   \n",
       "1                      3                         24                     9   \n",
       "2                      2                          7                     5   \n",
       "3                      5                         13                     7   \n",
       "4                      6                         17                     6   \n",
       "\n",
       "   hist_city_id  hist_state_id  hist_sub_id  \n",
       "0            69              9           34  \n",
       "1            69              9           34  \n",
       "2           143              5           33  \n",
       "3            17             22           37  \n",
       "4            17             22           37  \n",
       "\n",
       "[5 rows x 58 columns]"
      ]
     },
     "execution_count": 173,
     "metadata": {},
     "output_type": "execute_result"
    }
   ],
   "source": [
    "train.head()"
   ]
  },
  {
   "cell_type": "code",
   "execution_count": 77,
   "metadata": {
    "_uuid": "10ef56eaf9a578dcd554003f315ca269a22435c6"
   },
   "outputs": [],
   "source": [
    "#history_ = history_.drop(columns=['hist_sub_id_x'])"
   ]
  },
  {
   "cell_type": "code",
   "execution_count": 172,
   "metadata": {
    "_uuid": "a6dcc45dc223c1f30062d48e7c3c7a39ffd1aed7"
   },
   "outputs": [
    {
     "data": {
      "text/plain": [
       "42"
      ]
     },
     "execution_count": 172,
     "metadata": {},
     "output_type": "execute_result"
    }
   ],
   "source": [
    "gc.collect()\n",
    "train = pd.merge(train, history_, on='card_id', how='left')\n",
    "test = pd.merge(test, history_, on='card_id', how='left')\n",
    "del history_\n",
    "gc.collect()"
   ]
  },
  {
   "cell_type": "code",
   "execution_count": 101,
   "metadata": {},
   "outputs": [
    {
     "data": {
      "text/plain": [
       "108"
      ]
     },
     "execution_count": 101,
     "metadata": {},
     "output_type": "execute_result"
    }
   ],
   "source": [
    "len(train.columns)"
   ]
  },
  {
   "cell_type": "code",
   "execution_count": 174,
   "metadata": {
    "_uuid": "58836089904cb80d41baac3f82e72ad31194fae9"
   },
   "outputs": [],
   "source": [
    "del ht"
   ]
  },
  {
   "cell_type": "markdown",
   "metadata": {},
   "source": [
    "# new_merchant_transactions"
   ]
  },
  {
   "cell_type": "code",
   "execution_count": 175,
   "metadata": {},
   "outputs": [],
   "source": [
    "nmt = pd.read_csv('all/new_merchant_transactions.csv')"
   ]
  },
  {
   "cell_type": "code",
   "execution_count": 176,
   "metadata": {},
   "outputs": [],
   "source": [
    "nmt['authorized_flag'] = nmt.authorized_flag.map({'Y':1,'N':0})\n",
    "nmt['category_1'] = nmt.category_1.map({'Y':1,'N':0})\n",
    "nmt['category_3'] = nmt.category_3.map({'A':0,'B':1,'C':2,'nan':3})\n",
    "nmt['category_3']=nmt['category_3'].fillna(3)\n",
    "nmt['purchase_date'] = pd.to_datetime(nmt['purchase_date'])"
   ]
  },
  {
   "cell_type": "code",
   "execution_count": 177,
   "metadata": {},
   "outputs": [
    {
     "data": {
      "text/plain": [
       "Index(['authorized_flag', 'card_id', 'city_id', 'category_1', 'installments',\n",
       "       'category_3', 'merchant_category_id', 'merchant_id', 'month_lag',\n",
       "       'purchase_amount', 'purchase_date', 'category_2', 'state_id',\n",
       "       'subsector_id'],\n",
       "      dtype='object')"
      ]
     },
     "execution_count": 177,
     "metadata": {},
     "output_type": "execute_result"
    }
   ],
   "source": [
    "nmt.columns"
   ]
  },
  {
   "cell_type": "code",
   "execution_count": 178,
   "metadata": {},
   "outputs": [],
   "source": [
    "def aggregate_nmt(trans, prefix):\n",
    "    # more features from this kernel: https://www.kaggle.com/chauhuynh/my-first-kernel-3-699\n",
    "    trans['purchase_month'] = trans['purchase_date'].dt.month\n",
    "    trans['year'] = trans['purchase_date'].dt.year\n",
    "    trans['weekofyear'] = trans['purchase_date'].dt.weekofyear\n",
    "    trans['month'] = trans['purchase_date'].dt.month\n",
    "    trans['dayofweek'] = trans['purchase_date'].dt.dayofweek\n",
    "    trans['weekend'] = (trans.purchase_date.dt.weekday >=5).astype(int)\n",
    "    trans['hour'] = trans['purchase_date'].dt.hour\n",
    "    trans['installments'] = trans['installments'].astype(int)\n",
    "    #trans['month_diff'] = ((datetime.datetime.today() - trans['purchase_date']).dt.days)//30\n",
    "    #trans['month_diff'] += trans['month_lag']\n",
    "\n",
    "    trans.loc[:, 'purchase_date'] = pd.DatetimeIndex(trans['purchase_date']).astype(np.int64) * 1e-9\n",
    "    trans['installments'] = trans['installments'].astype(int)\n",
    "    trans = pd.get_dummies(trans, columns=['category_2', 'category_3'])\n",
    "    agg_func = {\n",
    "        'authorized_flag': ['sum', 'mean'],\n",
    "        'category_1': ['sum', 'mean'],\n",
    "        'category_2_1.0': ['mean', 'sum'],\n",
    "        'category_2_2.0': ['mean', 'sum'],\n",
    "        'category_2_3.0': ['mean', 'sum'],\n",
    "        'category_2_4.0': ['mean', 'sum'],\n",
    "        'category_2_5.0': ['mean', 'sum'],\n",
    "        'category_3_0.0': ['sum', 'mean'],\n",
    "        'category_3_1.0': ['sum', 'mean'],\n",
    "        'category_3_2.0': ['sum', 'mean'],\n",
    "        'category_3_3.0': ['sum', 'mean'],\n",
    "        'merchant_id': ['nunique'],\n",
    "        'purchase_amount': ['sum', 'mean', 'max', 'min', 'std'],\n",
    "        'installments': ['sum', 'mean', 'max', 'min', 'std'],\n",
    "        'purchase_month': ['mean', 'max', 'min', 'std'],\n",
    "        'purchase_date': [np.ptp, 'max', 'min'],\n",
    "        'month_lag': ['min', 'max'],\n",
    "        'merchant_category_id': ['nunique'],\n",
    "        'state_id': ['nunique'],\n",
    "        'subsector_id': ['nunique'],\n",
    "        'city_id': ['nunique'],\n",
    "    }\n",
    "    agg_trans = trans.groupby(['card_id']).agg(agg_func)\n",
    "    agg_trans.columns = [prefix + '_'.join(col).strip() for col in agg_trans.columns.values]\n",
    "    agg_trans.reset_index(inplace=True)\n",
    "\n",
    "    df = (trans.groupby('card_id')\n",
    "          .size()\n",
    "          .reset_index(name='{}transactions_count'.format(prefix)))\n",
    "\n",
    "    agg_trans = pd.merge(df, agg_trans, on='card_id', how='left')\n",
    "\n",
    "    return agg_trans"
   ]
  },
  {
   "cell_type": "code",
   "execution_count": 179,
   "metadata": {},
   "outputs": [
    {
     "name": "stdout",
     "output_type": "stream",
     "text": [
      "CPU times: user 43.4 s, sys: 2.57 s, total: 45.9 s\n",
      "Wall time: 40.9 s\n"
     ]
    }
   ],
   "source": [
    "%%time\n",
    "gc.collect()\n",
    "new = aggregate_nmt(nmt, prefix='new_')\n",
    "gc.collect()"
   ]
  },
  {
   "cell_type": "code",
   "execution_count": 180,
   "metadata": {},
   "outputs": [
    {
     "data": {
      "text/html": [
       "<div>\n",
       "<style scoped>\n",
       "    .dataframe tbody tr th:only-of-type {\n",
       "        vertical-align: middle;\n",
       "    }\n",
       "\n",
       "    .dataframe tbody tr th {\n",
       "        vertical-align: top;\n",
       "    }\n",
       "\n",
       "    .dataframe thead th {\n",
       "        text-align: right;\n",
       "    }\n",
       "</style>\n",
       "<table border=\"1\" class=\"dataframe\">\n",
       "  <thead>\n",
       "    <tr style=\"text-align: right;\">\n",
       "      <th></th>\n",
       "      <th>card_id</th>\n",
       "      <th>new_transactions_count</th>\n",
       "      <th>new_authorized_flag_sum</th>\n",
       "      <th>new_authorized_flag_mean</th>\n",
       "      <th>new_category_1_sum</th>\n",
       "      <th>new_category_1_mean</th>\n",
       "      <th>new_category_2_1.0_mean</th>\n",
       "      <th>new_category_2_1.0_sum</th>\n",
       "      <th>new_category_2_2.0_mean</th>\n",
       "      <th>new_category_2_2.0_sum</th>\n",
       "      <th>...</th>\n",
       "      <th>new_purchase_month_std</th>\n",
       "      <th>new_purchase_date_ptp</th>\n",
       "      <th>new_purchase_date_max</th>\n",
       "      <th>new_purchase_date_min</th>\n",
       "      <th>new_month_lag_min</th>\n",
       "      <th>new_month_lag_max</th>\n",
       "      <th>new_merchant_category_id_nunique</th>\n",
       "      <th>new_state_id_nunique</th>\n",
       "      <th>new_subsector_id_nunique</th>\n",
       "      <th>new_city_id_nunique</th>\n",
       "    </tr>\n",
       "  </thead>\n",
       "  <tbody>\n",
       "    <tr>\n",
       "      <th>0</th>\n",
       "      <td>C_ID_00007093c1</td>\n",
       "      <td>2</td>\n",
       "      <td>2</td>\n",
       "      <td>1</td>\n",
       "      <td>0</td>\n",
       "      <td>0.000000</td>\n",
       "      <td>0.500000</td>\n",
       "      <td>1</td>\n",
       "      <td>0.000000</td>\n",
       "      <td>0</td>\n",
       "      <td>...</td>\n",
       "      <td>0.000000</td>\n",
       "      <td>537024.0</td>\n",
       "      <td>1.523291e+09</td>\n",
       "      <td>1.522754e+09</td>\n",
       "      <td>2</td>\n",
       "      <td>2</td>\n",
       "      <td>2</td>\n",
       "      <td>2</td>\n",
       "      <td>2</td>\n",
       "      <td>2</td>\n",
       "    </tr>\n",
       "    <tr>\n",
       "      <th>1</th>\n",
       "      <td>C_ID_0001238066</td>\n",
       "      <td>26</td>\n",
       "      <td>26</td>\n",
       "      <td>1</td>\n",
       "      <td>2</td>\n",
       "      <td>0.076923</td>\n",
       "      <td>0.769231</td>\n",
       "      <td>20</td>\n",
       "      <td>0.000000</td>\n",
       "      <td>0</td>\n",
       "      <td>...</td>\n",
       "      <td>0.485165</td>\n",
       "      <td>5195343.0</td>\n",
       "      <td>1.525118e+09</td>\n",
       "      <td>1.519923e+09</td>\n",
       "      <td>1</td>\n",
       "      <td>2</td>\n",
       "      <td>15</td>\n",
       "      <td>4</td>\n",
       "      <td>9</td>\n",
       "      <td>8</td>\n",
       "    </tr>\n",
       "    <tr>\n",
       "      <th>2</th>\n",
       "      <td>C_ID_0001506ef0</td>\n",
       "      <td>2</td>\n",
       "      <td>2</td>\n",
       "      <td>1</td>\n",
       "      <td>0</td>\n",
       "      <td>0.000000</td>\n",
       "      <td>0.000000</td>\n",
       "      <td>0</td>\n",
       "      <td>0.000000</td>\n",
       "      <td>0</td>\n",
       "      <td>...</td>\n",
       "      <td>0.000000</td>\n",
       "      <td>471152.0</td>\n",
       "      <td>1.521710e+09</td>\n",
       "      <td>1.521239e+09</td>\n",
       "      <td>1</td>\n",
       "      <td>1</td>\n",
       "      <td>2</td>\n",
       "      <td>1</td>\n",
       "      <td>2</td>\n",
       "      <td>1</td>\n",
       "    </tr>\n",
       "    <tr>\n",
       "      <th>3</th>\n",
       "      <td>C_ID_0001793786</td>\n",
       "      <td>31</td>\n",
       "      <td>31</td>\n",
       "      <td>1</td>\n",
       "      <td>0</td>\n",
       "      <td>0.000000</td>\n",
       "      <td>0.483871</td>\n",
       "      <td>15</td>\n",
       "      <td>0.258065</td>\n",
       "      <td>8</td>\n",
       "      <td>...</td>\n",
       "      <td>0.475191</td>\n",
       "      <td>3981096.0</td>\n",
       "      <td>1.514742e+09</td>\n",
       "      <td>1.510761e+09</td>\n",
       "      <td>1</td>\n",
       "      <td>2</td>\n",
       "      <td>21</td>\n",
       "      <td>5</td>\n",
       "      <td>14</td>\n",
       "      <td>7</td>\n",
       "    </tr>\n",
       "    <tr>\n",
       "      <th>4</th>\n",
       "      <td>C_ID_000183fdda</td>\n",
       "      <td>11</td>\n",
       "      <td>11</td>\n",
       "      <td>1</td>\n",
       "      <td>0</td>\n",
       "      <td>0.000000</td>\n",
       "      <td>0.000000</td>\n",
       "      <td>0</td>\n",
       "      <td>0.000000</td>\n",
       "      <td>0</td>\n",
       "      <td>...</td>\n",
       "      <td>0.467099</td>\n",
       "      <td>5106807.0</td>\n",
       "      <td>1.525100e+09</td>\n",
       "      <td>1.519994e+09</td>\n",
       "      <td>1</td>\n",
       "      <td>2</td>\n",
       "      <td>9</td>\n",
       "      <td>2</td>\n",
       "      <td>6</td>\n",
       "      <td>2</td>\n",
       "    </tr>\n",
       "  </tbody>\n",
       "</table>\n",
       "<p>5 rows × 48 columns</p>\n",
       "</div>"
      ],
      "text/plain": [
       "           card_id  new_transactions_count  new_authorized_flag_sum  \\\n",
       "0  C_ID_00007093c1                       2                        2   \n",
       "1  C_ID_0001238066                      26                       26   \n",
       "2  C_ID_0001506ef0                       2                        2   \n",
       "3  C_ID_0001793786                      31                       31   \n",
       "4  C_ID_000183fdda                      11                       11   \n",
       "\n",
       "   new_authorized_flag_mean  new_category_1_sum  new_category_1_mean  \\\n",
       "0                         1                   0             0.000000   \n",
       "1                         1                   2             0.076923   \n",
       "2                         1                   0             0.000000   \n",
       "3                         1                   0             0.000000   \n",
       "4                         1                   0             0.000000   \n",
       "\n",
       "   new_category_2_1.0_mean  new_category_2_1.0_sum  new_category_2_2.0_mean  \\\n",
       "0                 0.500000                       1                 0.000000   \n",
       "1                 0.769231                      20                 0.000000   \n",
       "2                 0.000000                       0                 0.000000   \n",
       "3                 0.483871                      15                 0.258065   \n",
       "4                 0.000000                       0                 0.000000   \n",
       "\n",
       "   new_category_2_2.0_sum         ...           new_purchase_month_std  \\\n",
       "0                       0         ...                         0.000000   \n",
       "1                       0         ...                         0.485165   \n",
       "2                       0         ...                         0.000000   \n",
       "3                       8         ...                         0.475191   \n",
       "4                       0         ...                         0.467099   \n",
       "\n",
       "   new_purchase_date_ptp  new_purchase_date_max  new_purchase_date_min  \\\n",
       "0               537024.0           1.523291e+09           1.522754e+09   \n",
       "1              5195343.0           1.525118e+09           1.519923e+09   \n",
       "2               471152.0           1.521710e+09           1.521239e+09   \n",
       "3              3981096.0           1.514742e+09           1.510761e+09   \n",
       "4              5106807.0           1.525100e+09           1.519994e+09   \n",
       "\n",
       "   new_month_lag_min  new_month_lag_max  new_merchant_category_id_nunique  \\\n",
       "0                  2                  2                                 2   \n",
       "1                  1                  2                                15   \n",
       "2                  1                  1                                 2   \n",
       "3                  1                  2                                21   \n",
       "4                  1                  2                                 9   \n",
       "\n",
       "   new_state_id_nunique  new_subsector_id_nunique  new_city_id_nunique  \n",
       "0                     2                         2                    2  \n",
       "1                     4                         9                    8  \n",
       "2                     1                         2                    1  \n",
       "3                     5                        14                    7  \n",
       "4                     2                         6                    2  \n",
       "\n",
       "[5 rows x 48 columns]"
      ]
     },
     "execution_count": 180,
     "metadata": {},
     "output_type": "execute_result"
    }
   ],
   "source": [
    "new.head()"
   ]
  },
  {
   "cell_type": "code",
   "execution_count": 181,
   "metadata": {},
   "outputs": [],
   "source": [
    "temp = nmt.groupby(['card_id']).apply(lambda x:x['city_id'].value_counts().idxmax())\n",
    "temp2 = nmt.groupby(['card_id']).apply(lambda x:x['state_id'].value_counts().idxmax())\n",
    "temp3 = nmt.groupby(['card_id']).apply(lambda x:x['subsector_id'].value_counts().idxmax())\n",
    "abc = pd.DataFrame(temp,columns=['new_city_id'])\n",
    "new_ = pd.merge(new, abc, on='card_id', how='left')\n",
    "abc = pd.DataFrame(temp2,columns=['new_state_id'])\n",
    "new_ = pd.merge(new_, abc, on='card_id', how='left')\n",
    "abc = pd.DataFrame(temp3,columns=['new_sub_id'])\n",
    "new_ = pd.merge(new_, abc, on='card_id', how='left')"
   ]
  },
  {
   "cell_type": "code",
   "execution_count": 75,
   "metadata": {},
   "outputs": [],
   "source": []
  },
  {
   "cell_type": "code",
   "execution_count": 78,
   "metadata": {},
   "outputs": [
    {
     "data": {
      "text/html": [
       "<div>\n",
       "<style scoped>\n",
       "    .dataframe tbody tr th:only-of-type {\n",
       "        vertical-align: middle;\n",
       "    }\n",
       "\n",
       "    .dataframe tbody tr th {\n",
       "        vertical-align: top;\n",
       "    }\n",
       "\n",
       "    .dataframe thead th {\n",
       "        text-align: right;\n",
       "    }\n",
       "</style>\n",
       "<table border=\"1\" class=\"dataframe\">\n",
       "  <thead>\n",
       "    <tr style=\"text-align: right;\">\n",
       "      <th></th>\n",
       "      <th>card_id</th>\n",
       "      <th>newtransactions_count</th>\n",
       "      <th>newauthorized_flag_sum</th>\n",
       "      <th>newauthorized_flag_mean</th>\n",
       "      <th>newcategory_1_sum</th>\n",
       "      <th>newcategory_1_mean</th>\n",
       "      <th>newcategory_2_1.0_mean</th>\n",
       "      <th>newcategory_2_1.0_sum</th>\n",
       "      <th>newcategory_2_2.0_mean</th>\n",
       "      <th>newcategory_2_2.0_sum</th>\n",
       "      <th>...</th>\n",
       "      <th>newpurchase_date_min</th>\n",
       "      <th>newmonth_lag_min</th>\n",
       "      <th>newmonth_lag_max</th>\n",
       "      <th>newmerchant_category_id_nunique</th>\n",
       "      <th>newstate_id_nunique</th>\n",
       "      <th>newsubsector_id_nunique</th>\n",
       "      <th>newcity_id_nunique</th>\n",
       "      <th>new_city_id</th>\n",
       "      <th>new_state_id</th>\n",
       "      <th>new_sub_id</th>\n",
       "    </tr>\n",
       "  </thead>\n",
       "  <tbody>\n",
       "    <tr>\n",
       "      <th>0</th>\n",
       "      <td>C_ID_00007093c1</td>\n",
       "      <td>2</td>\n",
       "      <td>2</td>\n",
       "      <td>1</td>\n",
       "      <td>0</td>\n",
       "      <td>0.000000</td>\n",
       "      <td>0.500000</td>\n",
       "      <td>1</td>\n",
       "      <td>0.000000</td>\n",
       "      <td>0</td>\n",
       "      <td>...</td>\n",
       "      <td>1.522754e+09</td>\n",
       "      <td>2</td>\n",
       "      <td>2</td>\n",
       "      <td>2</td>\n",
       "      <td>2</td>\n",
       "      <td>2</td>\n",
       "      <td>2</td>\n",
       "      <td>69</td>\n",
       "      <td>2</td>\n",
       "      <td>21</td>\n",
       "    </tr>\n",
       "    <tr>\n",
       "      <th>1</th>\n",
       "      <td>C_ID_0001238066</td>\n",
       "      <td>26</td>\n",
       "      <td>26</td>\n",
       "      <td>1</td>\n",
       "      <td>2</td>\n",
       "      <td>0.076923</td>\n",
       "      <td>0.769231</td>\n",
       "      <td>20</td>\n",
       "      <td>0.000000</td>\n",
       "      <td>0</td>\n",
       "      <td>...</td>\n",
       "      <td>1.519923e+09</td>\n",
       "      <td>1</td>\n",
       "      <td>2</td>\n",
       "      <td>15</td>\n",
       "      <td>4</td>\n",
       "      <td>9</td>\n",
       "      <td>8</td>\n",
       "      <td>314</td>\n",
       "      <td>9</td>\n",
       "      <td>37</td>\n",
       "    </tr>\n",
       "    <tr>\n",
       "      <th>2</th>\n",
       "      <td>C_ID_0001506ef0</td>\n",
       "      <td>2</td>\n",
       "      <td>2</td>\n",
       "      <td>1</td>\n",
       "      <td>0</td>\n",
       "      <td>0.000000</td>\n",
       "      <td>0.000000</td>\n",
       "      <td>0</td>\n",
       "      <td>0.000000</td>\n",
       "      <td>0</td>\n",
       "      <td>...</td>\n",
       "      <td>1.521239e+09</td>\n",
       "      <td>1</td>\n",
       "      <td>1</td>\n",
       "      <td>2</td>\n",
       "      <td>1</td>\n",
       "      <td>2</td>\n",
       "      <td>1</td>\n",
       "      <td>137</td>\n",
       "      <td>19</td>\n",
       "      <td>34</td>\n",
       "    </tr>\n",
       "    <tr>\n",
       "      <th>3</th>\n",
       "      <td>C_ID_0001793786</td>\n",
       "      <td>31</td>\n",
       "      <td>31</td>\n",
       "      <td>1</td>\n",
       "      <td>0</td>\n",
       "      <td>0.000000</td>\n",
       "      <td>0.483871</td>\n",
       "      <td>15</td>\n",
       "      <td>0.258065</td>\n",
       "      <td>8</td>\n",
       "      <td>...</td>\n",
       "      <td>1.510761e+09</td>\n",
       "      <td>1</td>\n",
       "      <td>2</td>\n",
       "      <td>21</td>\n",
       "      <td>5</td>\n",
       "      <td>14</td>\n",
       "      <td>7</td>\n",
       "      <td>69</td>\n",
       "      <td>9</td>\n",
       "      <td>37</td>\n",
       "    </tr>\n",
       "    <tr>\n",
       "      <th>4</th>\n",
       "      <td>C_ID_000183fdda</td>\n",
       "      <td>11</td>\n",
       "      <td>11</td>\n",
       "      <td>1</td>\n",
       "      <td>0</td>\n",
       "      <td>0.000000</td>\n",
       "      <td>0.000000</td>\n",
       "      <td>0</td>\n",
       "      <td>0.000000</td>\n",
       "      <td>0</td>\n",
       "      <td>...</td>\n",
       "      <td>1.519994e+09</td>\n",
       "      <td>1</td>\n",
       "      <td>2</td>\n",
       "      <td>9</td>\n",
       "      <td>2</td>\n",
       "      <td>6</td>\n",
       "      <td>2</td>\n",
       "      <td>161</td>\n",
       "      <td>3</td>\n",
       "      <td>16</td>\n",
       "    </tr>\n",
       "  </tbody>\n",
       "</table>\n",
       "<p>5 rows × 51 columns</p>\n",
       "</div>"
      ],
      "text/plain": [
       "           card_id  newtransactions_count  newauthorized_flag_sum  \\\n",
       "0  C_ID_00007093c1                      2                       2   \n",
       "1  C_ID_0001238066                     26                      26   \n",
       "2  C_ID_0001506ef0                      2                       2   \n",
       "3  C_ID_0001793786                     31                      31   \n",
       "4  C_ID_000183fdda                     11                      11   \n",
       "\n",
       "   newauthorized_flag_mean  newcategory_1_sum  newcategory_1_mean  \\\n",
       "0                        1                  0            0.000000   \n",
       "1                        1                  2            0.076923   \n",
       "2                        1                  0            0.000000   \n",
       "3                        1                  0            0.000000   \n",
       "4                        1                  0            0.000000   \n",
       "\n",
       "   newcategory_2_1.0_mean  newcategory_2_1.0_sum  newcategory_2_2.0_mean  \\\n",
       "0                0.500000                      1                0.000000   \n",
       "1                0.769231                     20                0.000000   \n",
       "2                0.000000                      0                0.000000   \n",
       "3                0.483871                     15                0.258065   \n",
       "4                0.000000                      0                0.000000   \n",
       "\n",
       "   newcategory_2_2.0_sum     ...      newpurchase_date_min  newmonth_lag_min  \\\n",
       "0                      0     ...              1.522754e+09                 2   \n",
       "1                      0     ...              1.519923e+09                 1   \n",
       "2                      0     ...              1.521239e+09                 1   \n",
       "3                      8     ...              1.510761e+09                 1   \n",
       "4                      0     ...              1.519994e+09                 1   \n",
       "\n",
       "   newmonth_lag_max  newmerchant_category_id_nunique  newstate_id_nunique  \\\n",
       "0                 2                                2                    2   \n",
       "1                 2                               15                    4   \n",
       "2                 1                                2                    1   \n",
       "3                 2                               21                    5   \n",
       "4                 2                                9                    2   \n",
       "\n",
       "   newsubsector_id_nunique  newcity_id_nunique  new_city_id  new_state_id  \\\n",
       "0                        2                   2           69             2   \n",
       "1                        9                   8          314             9   \n",
       "2                        2                   1          137            19   \n",
       "3                       14                   7           69             9   \n",
       "4                        6                   2          161             3   \n",
       "\n",
       "   new_sub_id  \n",
       "0          21  \n",
       "1          37  \n",
       "2          34  \n",
       "3          37  \n",
       "4          16  \n",
       "\n",
       "[5 rows x 51 columns]"
      ]
     },
     "execution_count": 78,
     "metadata": {},
     "output_type": "execute_result"
    }
   ],
   "source": [
    "new_.head()"
   ]
  },
  {
   "cell_type": "code",
   "execution_count": 183,
   "metadata": {},
   "outputs": [
    {
     "data": {
      "text/plain": [
       "14"
      ]
     },
     "execution_count": 183,
     "metadata": {},
     "output_type": "execute_result"
    }
   ],
   "source": [
    "gc.collect()\n",
    "train = pd.merge(train, new_, on='card_id', how='left')\n",
    "test = pd.merge(test, new_, on='card_id', how='left')\n",
    "del new_\n",
    "gc.collect()"
   ]
  },
  {
   "cell_type": "code",
   "execution_count": 184,
   "metadata": {},
   "outputs": [
    {
     "data": {
      "text/plain": [
       "108"
      ]
     },
     "execution_count": 184,
     "metadata": {},
     "output_type": "execute_result"
    }
   ],
   "source": [
    "len(train.columns)"
   ]
  },
  {
   "cell_type": "markdown",
   "metadata": {
    "_uuid": "2eaa7b389c2693a056573c0652a0a0b84291fa3a"
   },
   "source": [
    "***build model***"
   ]
  },
  {
   "cell_type": "code",
   "execution_count": 4,
   "metadata": {},
   "outputs": [],
   "source": [
    "train2 = pd.read_csv('liwei_dataset/train_clean.csv')\n",
    "test2 = pd .read_csv('liwei_dataset/test_clean.csv')"
   ]
  },
  {
   "cell_type": "code",
   "execution_count": 270,
   "metadata": {
    "_uuid": "85c70bfb7d4f7134771f6537d43fe80e17c3afcb"
   },
   "outputs": [],
   "source": [
    "y = train['target']"
   ]
  },
  {
   "cell_type": "code",
   "execution_count": 5,
   "metadata": {},
   "outputs": [
    {
     "data": {
      "text/plain": [
       "Index(['first_active_month', 'card_id', 'feature_3', 'target', 'month', 'year',\n",
       "       'elapsed_time', 'feature_1_1', 'feature_1_2', 'feature_1_3',\n",
       "       ...\n",
       "       'new_month_lag_min', 'new_month_lag_max', 'new_category_2_3.0_mean',\n",
       "       'new_category_2_2.0_mean', 'new_purchase_date_ptp',\n",
       "       'new_purchase_date_min', 'new_purchase_date_max',\n",
       "       'new_category_3_B_mean', 'new_city_id_nunique', 'outliers'],\n",
       "      dtype='object', length=121)"
      ]
     },
     "execution_count": 5,
     "metadata": {},
     "output_type": "execute_result"
    }
   ],
   "source": [
    "train2.columns"
   ]
  },
  {
   "cell_type": "code",
   "execution_count": 273,
   "metadata": {
    "_uuid": "4fc84da1cd5dd64502e688ac7f0ae9554019f883"
   },
   "outputs": [],
   "source": [
    "for col in ['first_active_month', 'card_id', 'target']:\n",
    "    if col in train.columns:\n",
    "        train.drop([col], axis=1, inplace=True)\n",
    "    if col in test.columns:\n",
    "        test.drop([col], axis=1, inplace=True)"
   ]
  },
  {
   "cell_type": "code",
   "execution_count": 274,
   "metadata": {
    "_uuid": "e6bca2bcb392c45eb612a8c173dc12cd3edf090b"
   },
   "outputs": [],
   "source": [
    "X_train = train\n",
    "X_test = test"
   ]
  },
  {
   "cell_type": "code",
   "execution_count": 275,
   "metadata": {},
   "outputs": [
    {
     "data": {
      "text/plain": [
       "117"
      ]
     },
     "execution_count": 275,
     "metadata": {},
     "output_type": "execute_result"
    }
   ],
   "source": [
    "len(X_test.columns)"
   ]
  },
  {
   "cell_type": "code",
   "execution_count": 276,
   "metadata": {
    "_uuid": "64b164c8a306d01ebe76f9209be23ad845fceec4"
   },
   "outputs": [],
   "source": [
    "n_fold = 5\n",
    "kfolds = KFold(n_splits=n_fold, shuffle=True, random_state=11)"
   ]
  },
  {
   "cell_type": "code",
   "execution_count": 277,
   "metadata": {},
   "outputs": [],
   "source": [
    "sfolds = StratifiedKFold(n_splits=5, shuffle=True, random_state=2333)"
   ]
  },
  {
   "cell_type": "code",
   "execution_count": 281,
   "metadata": {
    "_uuid": "31d3f9e9526cc87bf4b797a85d4cbf8c51b010b7"
   },
   "outputs": [],
   "source": [
    "def train_model(X=X_train, X_test=X_test, y=y, params=None, folds=kfolds,model_type='lgb', plot_feature_importance=False):\n",
    "    \n",
    "    oof = np.zeros(len(X))\n",
    "    prediction = np.zeros(len(X_test))\n",
    "    scores = []\n",
    "    feature_importance = pd.DataFrame()\n",
    "    for fold_n, (train_index, valid_index) in enumerate(folds.split(X)):\n",
    "        print('Fold', fold_n, 'started at', time.ctime())\n",
    "        X_train, X_valid = X.iloc[train_index], X.iloc[valid_index]\n",
    "        y_train, y_valid = y.iloc[train_index], y.iloc[valid_index]\n",
    "        \n",
    "        if model_type == 'lgb':\n",
    "            model = lgb.LGBMRegressor(**params, n_estimators = 20000, nthread = 4, n_jobs = -1)\n",
    "            ###  rfecv  ###\n",
    "            selector = RFECV(estimator=model, cv=3)\n",
    "            selector.fit(X_train, y_train)\n",
    "            Good_features = []\n",
    "            #get pruned set of features' list\n",
    "            for i in range(len(selector.support_)):\n",
    "                if selector.support_[i]==True:\n",
    "                    Good_features.append(i)\n",
    "            model.fit(X_train[X_train.columns[Good_features]], y_train, \n",
    "                    eval_set=[(X_train[X_train.columns[Good_features]], y_train), (X_valid[X_valid.columns[Good_features]], y_valid)], eval_metric='rmse',\n",
    "                    verbose=1000, early_stopping_rounds=200)\n",
    "            y_pred_valid = model.predict(X_valid[X_valid.columns[Good_features]])\n",
    "            y_pred = model.predict(X_test[X_test.columns[Good_features]], num_iteration=model.best_iteration_)\n",
    "            \n",
    "        oof[valid_index] = y_pred_valid.reshape(-1,)\n",
    "        scores.append(mean_squared_error(y_valid, y_pred_valid) ** 0.5)\n",
    "        \n",
    "        prediction += y_pred  \n",
    "        if model_type == 'lgb':\n",
    "            # feature importance\n",
    "            fold_importance = pd.DataFrame()\n",
    "            fold_importance[\"feature\"] = X.columns\n",
    "            fold_importance[\"importance\"] = model.feature_importances_\n",
    "            fold_importance[\"fold\"] = fold_n + 1\n",
    "            feature_importance = pd.concat([feature_importance, fold_importance], axis=0)\n",
    "\n",
    "    prediction /= n_fold\n",
    "    \n",
    "    print('CV mean score: {0:.4f}, std: {1:.4f}.'.format(np.mean(scores), np.std(scores)))\n",
    "    \n",
    "    if model_type == 'lgb':\n",
    "        feature_importance[\"importance\"] /= n_fold\n",
    "        if plot_feature_importance:\n",
    "            cols = feature_importance[[\"feature\", \"importance\"]].groupby(\"feature\").mean().sort_values(\n",
    "                by=\"importance\", ascending=False)[:50].index\n",
    "\n",
    "            best_features = feature_importance.loc[feature_importance.feature.isin(cols)]\n",
    "\n",
    "            plt.figure(figsize=(16, 12));\n",
    "            sns.barplot(x=\"importance\", y=\"feature\", data=best_features.sort_values(by=\"importance\", ascending=False));\n",
    "            plt.title('LGB Features (avg over folds)');\n",
    "        \n",
    "            return oof, prediction, feature_importance\n",
    "        return oof, prediction\n",
    "    \n",
    "    else:\n",
    "        return oof, prediction"
   ]
  },
  {
   "cell_type": "code",
   "execution_count": 282,
   "metadata": {
    "_uuid": "0f992003024ae74ed3868c2b8a6f867b21fc014a"
   },
   "outputs": [],
   "source": [
    "params = {'num_leaves': 54,\n",
    "         'min_data_in_leaf': 79,\n",
    "         'objective': 'regression',\n",
    "         'max_depth': 15,\n",
    "         'learning_rate': 0.018545526395058548,\n",
    "         \"boosting\": \"gbdt\",\n",
    "         \"feature_fraction\": 0.8354507676881442,\n",
    "         \"bagging_freq\": 3,\n",
    "         \"bagging_fraction\": 0.8126672064208567,\n",
    "         \"bagging_seed\": 11,\n",
    "         \"metric\": 'rmse',\n",
    "         \"lambda_l1\": 0.1,\n",
    "         \"verbosity\": -1,\n",
    "         'min_child_weight': 5.343384366323818,\n",
    "         'reg_alpha': 1.1302650970728192,\n",
    "         'reg_lambda': 0.3603427518866501,\n",
    "         'subsample': 0.8767547959893627,}"
   ]
  },
  {
   "cell_type": "code",
   "execution_count": 293,
   "metadata": {},
   "outputs": [
    {
     "data": {
      "text/plain": [
       "Index(['feature_3', 'month', 'year', 'elapsed_time', 'feature_1_1',\n",
       "       'feature_1_2', 'feature_1_3', 'feature_1_4', 'feature_1_5',\n",
       "       'feature_2_1',\n",
       "       ...\n",
       "       'new_month_lag_min', 'new_month_lag_max', 'new_category_2_3.0_mean',\n",
       "       'new_category_2_2.0_mean', 'new_purchase_date_ptp',\n",
       "       'new_purchase_date_min', 'new_purchase_date_max',\n",
       "       'new_category_3_B_mean', 'new_city_id_nunique', 'outliers'],\n",
       "      dtype='object', length=118)"
      ]
     },
     "execution_count": 293,
     "metadata": {},
     "output_type": "execute_result"
    }
   ],
   "source": [
    "train.columns"
   ]
  },
  {
   "cell_type": "code",
   "execution_count": 291,
   "metadata": {},
   "outputs": [
    {
     "data": {
      "text/plain": [
       "unauthorized_transactions_count              30959\n",
       "unauthorized_category_1_sum                  30959\n",
       "unauthorized_category_1_mean                 30959\n",
       "unauthorized_category_3_A_mean               30959\n",
       "unauthorized_category_2_5.0_mean             30959\n",
       "unauthorized_category_3_C_mean               30959\n",
       "unauthorized_subsector_id_nunique            30959\n",
       "unauthorized_merchant_id_nunique             30959\n",
       "unauthorized_category_2_1.0_mean             30959\n",
       "unauthorized_state_id_nunique                30959\n",
       "unauthorized_category_2_4.0_mean             30959\n",
       "unauthorized_purchase_amount_sum             30959\n",
       "unauthorized_purchase_amount_mean            30959\n",
       "unauthorized_purchase_amount_max             30959\n",
       "unauthorized_purchase_amount_min             30959\n",
       "unauthorized_purchase_amount_std             51988\n",
       "unauthorized_installments_sum                30959\n",
       "unauthorized_installments_mean               30959\n",
       "unauthorized_installments_max                30959\n",
       "unauthorized_installments_min                30959\n",
       "unauthorized_installments_std                51988\n",
       "unauthorized_merchant_category_id_nunique    30959\n",
       "unauthorized_purchase_month_mean             30959\n",
       "unauthorized_purchase_month_max              30959\n",
       "unauthorized_purchase_month_min              30959\n",
       "unauthorized_purchase_month_std              51988\n",
       "unauthorized_month_lag_min                   30959\n",
       "unauthorized_month_lag_max                   30959\n",
       "unauthorized_category_2_3.0_mean             30959\n",
       "unauthorized_category_2_2.0_mean             30959\n",
       "                                             ...  \n",
       "new_category_3_C_mean                        21931\n",
       "new_subsector_id_nunique                     21931\n",
       "new_merchant_id_nunique                      21931\n",
       "new_category_2_1.0_mean                      21931\n",
       "new_state_id_nunique                         21931\n",
       "new_category_2_4.0_mean                      21931\n",
       "new_purchase_amount_sum                      21931\n",
       "new_purchase_amount_mean                     21931\n",
       "new_purchase_amount_max                      21931\n",
       "new_purchase_amount_min                      21931\n",
       "new_purchase_amount_std                      48718\n",
       "new_installments_sum                         21931\n",
       "new_installments_mean                        21931\n",
       "new_installments_max                         21931\n",
       "new_installments_min                         21931\n",
       "new_installments_std                         48718\n",
       "new_merchant_category_id_nunique             21931\n",
       "new_purchase_month_mean                      21931\n",
       "new_purchase_month_max                       21931\n",
       "new_purchase_month_min                       21931\n",
       "new_purchase_month_std                       48718\n",
       "new_month_lag_min                            21931\n",
       "new_month_lag_max                            21931\n",
       "new_category_2_3.0_mean                      21931\n",
       "new_category_2_2.0_mean                      21931\n",
       "new_purchase_date_ptp                        21931\n",
       "new_purchase_date_min                        21931\n",
       "new_purchase_date_max                        21931\n",
       "new_category_3_B_mean                        21931\n",
       "new_city_id_nunique                          21931\n",
       "Length: 70, dtype: int64"
      ]
     },
     "execution_count": 291,
     "metadata": {},
     "output_type": "execute_result"
    }
   ],
   "source": [
    "train.isna().sum()[train.isna().sum()>0]"
   ]
  },
  {
   "cell_type": "code",
   "execution_count": 283,
   "metadata": {
    "_uuid": "c81af07e051d92de11968162681a77fcf7ad9112"
   },
   "outputs": [
    {
     "name": "stdout",
     "output_type": "stream",
     "text": [
      "Fold 0 started at Fri Jan 18 10:21:52 2019\n"
     ]
    },
    {
     "ename": "ValueError",
     "evalue": "Input contains NaN, infinity or a value too large for dtype('float64').",
     "output_type": "error",
     "traceback": [
      "\u001b[0;31m---------------------------------------------------------------------------\u001b[0m",
      "\u001b[0;31mValueError\u001b[0m                                Traceback (most recent call last)",
      "\u001b[0;32m<ipython-input-283-9c6a0c1efcbd>\u001b[0m in \u001b[0;36m<module>\u001b[0;34m\u001b[0m\n\u001b[0;32m----> 1\u001b[0;31m \u001b[0moof_lgb\u001b[0m\u001b[0;34m,\u001b[0m \u001b[0mprediction_lgb\u001b[0m\u001b[0;34m,\u001b[0m \u001b[0mfeature_importance\u001b[0m \u001b[0;34m=\u001b[0m \u001b[0mtrain_model\u001b[0m\u001b[0;34m(\u001b[0m\u001b[0mparams\u001b[0m\u001b[0;34m=\u001b[0m\u001b[0mliwei_param\u001b[0m\u001b[0;34m,\u001b[0m \u001b[0mmodel_type\u001b[0m\u001b[0;34m=\u001b[0m\u001b[0;34m'lgb'\u001b[0m\u001b[0;34m,\u001b[0m \u001b[0mplot_feature_importance\u001b[0m\u001b[0;34m=\u001b[0m\u001b[0;32mTrue\u001b[0m\u001b[0;34m)\u001b[0m\u001b[0;34m\u001b[0m\u001b[0;34m\u001b[0m\u001b[0m\n\u001b[0m",
      "\u001b[0;32m<ipython-input-281-4d1c335a4482>\u001b[0m in \u001b[0;36mtrain_model\u001b[0;34m(X, X_test, y, params, folds, model_type, plot_feature_importance)\u001b[0m\n\u001b[1;32m     14\u001b[0m             \u001b[0;31m###  rfecv  ###\u001b[0m\u001b[0;34m\u001b[0m\u001b[0;34m\u001b[0m\u001b[0;34m\u001b[0m\u001b[0m\n\u001b[1;32m     15\u001b[0m             \u001b[0mselector\u001b[0m \u001b[0;34m=\u001b[0m \u001b[0mRFECV\u001b[0m\u001b[0;34m(\u001b[0m\u001b[0mestimator\u001b[0m\u001b[0;34m=\u001b[0m\u001b[0mmodel\u001b[0m\u001b[0;34m,\u001b[0m \u001b[0mcv\u001b[0m\u001b[0;34m=\u001b[0m\u001b[0;36m3\u001b[0m\u001b[0;34m)\u001b[0m\u001b[0;34m\u001b[0m\u001b[0;34m\u001b[0m\u001b[0m\n\u001b[0;32m---> 16\u001b[0;31m             \u001b[0mselector\u001b[0m\u001b[0;34m.\u001b[0m\u001b[0mfit\u001b[0m\u001b[0;34m(\u001b[0m\u001b[0mX_train\u001b[0m\u001b[0;34m,\u001b[0m \u001b[0my_train\u001b[0m\u001b[0;34m)\u001b[0m\u001b[0;34m\u001b[0m\u001b[0;34m\u001b[0m\u001b[0m\n\u001b[0m\u001b[1;32m     17\u001b[0m             \u001b[0mGood_features\u001b[0m \u001b[0;34m=\u001b[0m \u001b[0;34m[\u001b[0m\u001b[0;34m]\u001b[0m\u001b[0;34m\u001b[0m\u001b[0;34m\u001b[0m\u001b[0m\n\u001b[1;32m     18\u001b[0m             \u001b[0;31m#get pruned set of features' list\u001b[0m\u001b[0;34m\u001b[0m\u001b[0;34m\u001b[0m\u001b[0;34m\u001b[0m\u001b[0m\n",
      "\u001b[0;32m~/anaconda3/envs/elo/lib/python3.6/site-packages/sklearn/feature_selection/rfe.py\u001b[0m in \u001b[0;36mfit\u001b[0;34m(self, X, y, groups)\u001b[0m\n\u001b[1;32m    472\u001b[0m             \u001b[0mtrain\u001b[0m\u001b[0;34m/\u001b[0m\u001b[0mtest\u001b[0m \u001b[0mset\u001b[0m\u001b[0;34m.\u001b[0m\u001b[0;34m\u001b[0m\u001b[0;34m\u001b[0m\u001b[0m\n\u001b[1;32m    473\u001b[0m         \"\"\"\n\u001b[0;32m--> 474\u001b[0;31m         \u001b[0mX\u001b[0m\u001b[0;34m,\u001b[0m \u001b[0my\u001b[0m \u001b[0;34m=\u001b[0m \u001b[0mcheck_X_y\u001b[0m\u001b[0;34m(\u001b[0m\u001b[0mX\u001b[0m\u001b[0;34m,\u001b[0m \u001b[0my\u001b[0m\u001b[0;34m,\u001b[0m \u001b[0;34m\"csr\"\u001b[0m\u001b[0;34m)\u001b[0m\u001b[0;34m\u001b[0m\u001b[0;34m\u001b[0m\u001b[0m\n\u001b[0m\u001b[1;32m    475\u001b[0m \u001b[0;34m\u001b[0m\u001b[0m\n\u001b[1;32m    476\u001b[0m         \u001b[0;31m# Initialization\u001b[0m\u001b[0;34m\u001b[0m\u001b[0;34m\u001b[0m\u001b[0;34m\u001b[0m\u001b[0m\n",
      "\u001b[0;32m~/anaconda3/envs/elo/lib/python3.6/site-packages/sklearn/utils/validation.py\u001b[0m in \u001b[0;36mcheck_X_y\u001b[0;34m(X, y, accept_sparse, accept_large_sparse, dtype, order, copy, force_all_finite, ensure_2d, allow_nd, multi_output, ensure_min_samples, ensure_min_features, y_numeric, warn_on_dtype, estimator)\u001b[0m\n\u001b[1;32m    754\u001b[0m                     \u001b[0mensure_min_features\u001b[0m\u001b[0;34m=\u001b[0m\u001b[0mensure_min_features\u001b[0m\u001b[0;34m,\u001b[0m\u001b[0;34m\u001b[0m\u001b[0;34m\u001b[0m\u001b[0m\n\u001b[1;32m    755\u001b[0m                     \u001b[0mwarn_on_dtype\u001b[0m\u001b[0;34m=\u001b[0m\u001b[0mwarn_on_dtype\u001b[0m\u001b[0;34m,\u001b[0m\u001b[0;34m\u001b[0m\u001b[0;34m\u001b[0m\u001b[0m\n\u001b[0;32m--> 756\u001b[0;31m                     estimator=estimator)\n\u001b[0m\u001b[1;32m    757\u001b[0m     \u001b[0;32mif\u001b[0m \u001b[0mmulti_output\u001b[0m\u001b[0;34m:\u001b[0m\u001b[0;34m\u001b[0m\u001b[0;34m\u001b[0m\u001b[0m\n\u001b[1;32m    758\u001b[0m         y = check_array(y, 'csr', force_all_finite=True, ensure_2d=False,\n",
      "\u001b[0;32m~/anaconda3/envs/elo/lib/python3.6/site-packages/sklearn/utils/validation.py\u001b[0m in \u001b[0;36mcheck_array\u001b[0;34m(array, accept_sparse, accept_large_sparse, dtype, order, copy, force_all_finite, ensure_2d, allow_nd, ensure_min_samples, ensure_min_features, warn_on_dtype, estimator)\u001b[0m\n\u001b[1;32m    571\u001b[0m         \u001b[0;32mif\u001b[0m \u001b[0mforce_all_finite\u001b[0m\u001b[0;34m:\u001b[0m\u001b[0;34m\u001b[0m\u001b[0;34m\u001b[0m\u001b[0m\n\u001b[1;32m    572\u001b[0m             _assert_all_finite(array,\n\u001b[0;32m--> 573\u001b[0;31m                                allow_nan=force_all_finite == 'allow-nan')\n\u001b[0m\u001b[1;32m    574\u001b[0m \u001b[0;34m\u001b[0m\u001b[0m\n\u001b[1;32m    575\u001b[0m     \u001b[0mshape_repr\u001b[0m \u001b[0;34m=\u001b[0m \u001b[0m_shape_repr\u001b[0m\u001b[0;34m(\u001b[0m\u001b[0marray\u001b[0m\u001b[0;34m.\u001b[0m\u001b[0mshape\u001b[0m\u001b[0;34m)\u001b[0m\u001b[0;34m\u001b[0m\u001b[0;34m\u001b[0m\u001b[0m\n",
      "\u001b[0;32m~/anaconda3/envs/elo/lib/python3.6/site-packages/sklearn/utils/validation.py\u001b[0m in \u001b[0;36m_assert_all_finite\u001b[0;34m(X, allow_nan)\u001b[0m\n\u001b[1;32m     54\u001b[0m                 not allow_nan and not np.isfinite(X).all()):\n\u001b[1;32m     55\u001b[0m             \u001b[0mtype_err\u001b[0m \u001b[0;34m=\u001b[0m \u001b[0;34m'infinity'\u001b[0m \u001b[0;32mif\u001b[0m \u001b[0mallow_nan\u001b[0m \u001b[0;32melse\u001b[0m \u001b[0;34m'NaN, infinity'\u001b[0m\u001b[0;34m\u001b[0m\u001b[0;34m\u001b[0m\u001b[0m\n\u001b[0;32m---> 56\u001b[0;31m             \u001b[0;32mraise\u001b[0m \u001b[0mValueError\u001b[0m\u001b[0;34m(\u001b[0m\u001b[0mmsg_err\u001b[0m\u001b[0;34m.\u001b[0m\u001b[0mformat\u001b[0m\u001b[0;34m(\u001b[0m\u001b[0mtype_err\u001b[0m\u001b[0;34m,\u001b[0m \u001b[0mX\u001b[0m\u001b[0;34m.\u001b[0m\u001b[0mdtype\u001b[0m\u001b[0;34m)\u001b[0m\u001b[0;34m)\u001b[0m\u001b[0;34m\u001b[0m\u001b[0;34m\u001b[0m\u001b[0m\n\u001b[0m\u001b[1;32m     57\u001b[0m \u001b[0;34m\u001b[0m\u001b[0m\n\u001b[1;32m     58\u001b[0m \u001b[0;34m\u001b[0m\u001b[0m\n",
      "\u001b[0;31mValueError\u001b[0m: Input contains NaN, infinity or a value too large for dtype('float64')."
     ]
    }
   ],
   "source": [
    "oof_lgb, prediction_lgb, feature_importance = train_model(params=liwei_param, model_type='lgb', plot_feature_importance=True)"
   ]
  },
  {
   "cell_type": "code",
   "execution_count": 131,
   "metadata": {
    "_uuid": "2e8ac23ed545d8416e14d761538c4b91442cfa43"
   },
   "outputs": [
    {
     "data": {
      "text/plain": [
       "array([-0.22376484, -0.38343586,  0.64515155, ..., -0.17424278,\n",
       "       -2.5186664 , -0.01917684])"
      ]
     },
     "execution_count": 131,
     "metadata": {},
     "output_type": "execute_result"
    }
   ],
   "source": [
    "oof_lgb"
   ]
  },
  {
   "cell_type": "code",
   "execution_count": 132,
   "metadata": {
    "_uuid": "a65e7399af5da068d23c07b0cd2110c87a77d46b"
   },
   "outputs": [],
   "source": [
    "sample_submission = pd.read_csv('all/sample_submission.csv')\n",
    "sample_submission['target'] = prediction_lgb\n",
    "sample_submission.to_csv('lgb.csv', index=False)"
   ]
  },
  {
   "cell_type": "code",
   "execution_count": 113,
   "metadata": {
    "_uuid": "6a5bf770ce733d7ee8f0b4c88df3dfded0cc0bfe"
   },
   "outputs": [],
   "source": [
    "train.to_csv('train_clean.csv',index=False)\n",
    "test.to_csv('test_clean.csv',index=False)"
   ]
  },
  {
   "cell_type": "code",
   "execution_count": 125,
   "metadata": {},
   "outputs": [],
   "source": [
    "temp = pd.read_csv('train_clean.csv')"
   ]
  },
  {
   "cell_type": "code",
   "execution_count": 128,
   "metadata": {},
   "outputs": [
    {
     "data": {
      "text/plain": [
       "105"
      ]
     },
     "execution_count": 128,
     "metadata": {},
     "output_type": "execute_result"
    }
   ],
   "source": [
    "len(temp.columns)"
   ]
  },
  {
   "cell_type": "code",
   "execution_count": 134,
   "metadata": {},
   "outputs": [
    {
     "data": {
      "text/plain": [
       "201917"
      ]
     },
     "execution_count": 134,
     "metadata": {},
     "output_type": "execute_result"
    }
   ],
   "source": [
    "len(temp)"
   ]
  },
  {
   "cell_type": "code",
   "execution_count": null,
   "metadata": {},
   "outputs": [],
   "source": []
  }
 ],
 "metadata": {
  "kernelspec": {
   "display_name": "ELO",
   "language": "python",
   "name": "elo"
  },
  "language_info": {
   "codemirror_mode": {
    "name": "ipython",
    "version": 3
   },
   "file_extension": ".py",
   "mimetype": "text/x-python",
   "name": "python",
   "nbconvert_exporter": "python",
   "pygments_lexer": "ipython3",
   "version": "3.6.7"
  }
 },
 "nbformat": 4,
 "nbformat_minor": 1
}
