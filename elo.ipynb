{
  "cells": [
    {
      "metadata": {
        "_uuid": "8f2839f25d086af736a60e9eeb907d3b93b6e0e5",
        "_cell_guid": "b1076dfc-b9ad-4769-8c92-a6c4dae69d19",
        "trusted": true
      },
      "cell_type": "code",
      "source": "import numpy as np # linear algebra\nimport pandas as pd # data processing, CSV file I/O (e.g. pd.read_csv)\nimport datetime\nimport os\nprint(os.listdir(\"../input\"))\n",
      "execution_count": 2,
      "outputs": [
        {
          "output_type": "stream",
          "text": "['train.csv', 'merchants.csv', 'sample_submission.csv', 'test.csv', 'historical_transactions.csv', 'Data_Dictionary.xlsx', 'new_merchant_transactions.csv']\n",
          "name": "stdout"
        }
      ]
    },
    {
      "metadata": {
        "_cell_guid": "79c7e3d0-c299-4dcb-8224-4455121ee9b0",
        "_uuid": "d629ff2d2480ee46fbb7e2d37f6b5fab8052498a",
        "trusted": true
      },
      "cell_type": "code",
      "source": "train = pd.read_csv('../input/train.csv')\ntest = pd.read_csv('../input/test.csv')\nnmt = pd.read_csv('../input/new_merchant_transactions.csv')\nmct = pd.read_csv('../input/merchants.csv')\n",
      "execution_count": 2,
      "outputs": []
    },
    {
      "metadata": {
        "trusted": true,
        "_uuid": "6ec6782a5111f70f65b30ce46da8b14126deca25"
      },
      "cell_type": "code",
      "source": "ht = pd.read_csv('../input/historical_transactions.csv')",
      "execution_count": null,
      "outputs": []
    },
    {
      "metadata": {
        "trusted": true,
        "_uuid": "bc5343a0099a3c612da34015ea4ce55e4726ccc3"
      },
      "cell_type": "code",
      "source": "data_dict = pd.read_excel('../input/Data_Dictionary.xlsx', sheet_name='train')\ndata_dict",
      "execution_count": 5,
      "outputs": [
        {
          "output_type": "execute_result",
          "execution_count": 5,
          "data": {
            "text/plain": "            train.csv                                         Unnamed: 1\n0                 NaN                                                NaN\n1             Columns                                        Description\n2             card_id                             Unique card identifier\n3  first_active_month                 'YYYY-MM', month of first purchase\n4           feature_1                Anonymized card categorical feature\n5           feature_2                Anonymized card categorical feature\n6           feature_3                Anonymized card categorical feature\n7              target  Loyalty numerical score calculated 2 months af...",
            "text/html": "<div>\n<style scoped>\n    .dataframe tbody tr th:only-of-type {\n        vertical-align: middle;\n    }\n\n    .dataframe tbody tr th {\n        vertical-align: top;\n    }\n\n    .dataframe thead th {\n        text-align: right;\n    }\n</style>\n<table border=\"1\" class=\"dataframe\">\n  <thead>\n    <tr style=\"text-align: right;\">\n      <th></th>\n      <th>train.csv</th>\n      <th>Unnamed: 1</th>\n    </tr>\n  </thead>\n  <tbody>\n    <tr>\n      <th>0</th>\n      <td>NaN</td>\n      <td>NaN</td>\n    </tr>\n    <tr>\n      <th>1</th>\n      <td>Columns</td>\n      <td>Description</td>\n    </tr>\n    <tr>\n      <th>2</th>\n      <td>card_id</td>\n      <td>Unique card identifier</td>\n    </tr>\n    <tr>\n      <th>3</th>\n      <td>first_active_month</td>\n      <td>'YYYY-MM', month of first purchase</td>\n    </tr>\n    <tr>\n      <th>4</th>\n      <td>feature_1</td>\n      <td>Anonymized card categorical feature</td>\n    </tr>\n    <tr>\n      <th>5</th>\n      <td>feature_2</td>\n      <td>Anonymized card categorical feature</td>\n    </tr>\n    <tr>\n      <th>6</th>\n      <td>feature_3</td>\n      <td>Anonymized card categorical feature</td>\n    </tr>\n    <tr>\n      <th>7</th>\n      <td>target</td>\n      <td>Loyalty numerical score calculated 2 months af...</td>\n    </tr>\n  </tbody>\n</table>\n</div>"
          },
          "metadata": {}
        }
      ]
    },
    {
      "metadata": {
        "trusted": true,
        "_uuid": "84517cc4d7f1fa5ed48817ba288de02828d0d51c"
      },
      "cell_type": "code",
      "source": "train.head()",
      "execution_count": 7,
      "outputs": [
        {
          "output_type": "execute_result",
          "execution_count": 7,
          "data": {
            "text/plain": "  first_active_month          card_id    ...     feature_3    target\n0            2017-06  C_ID_92a2005557    ...             1 -0.820283\n1            2017-01  C_ID_3d0044924f    ...             0  0.392913\n2            2016-08  C_ID_d639edf6cd    ...             0  0.688056\n3            2017-09  C_ID_186d6a6901    ...             0  0.142495\n4            2017-11  C_ID_cdbd2c0db2    ...             0 -0.159749\n\n[5 rows x 6 columns]",
            "text/html": "<div>\n<style scoped>\n    .dataframe tbody tr th:only-of-type {\n        vertical-align: middle;\n    }\n\n    .dataframe tbody tr th {\n        vertical-align: top;\n    }\n\n    .dataframe thead th {\n        text-align: right;\n    }\n</style>\n<table border=\"1\" class=\"dataframe\">\n  <thead>\n    <tr style=\"text-align: right;\">\n      <th></th>\n      <th>first_active_month</th>\n      <th>card_id</th>\n      <th>feature_1</th>\n      <th>feature_2</th>\n      <th>feature_3</th>\n      <th>target</th>\n    </tr>\n  </thead>\n  <tbody>\n    <tr>\n      <th>0</th>\n      <td>2017-06</td>\n      <td>C_ID_92a2005557</td>\n      <td>5</td>\n      <td>2</td>\n      <td>1</td>\n      <td>-0.820283</td>\n    </tr>\n    <tr>\n      <th>1</th>\n      <td>2017-01</td>\n      <td>C_ID_3d0044924f</td>\n      <td>4</td>\n      <td>1</td>\n      <td>0</td>\n      <td>0.392913</td>\n    </tr>\n    <tr>\n      <th>2</th>\n      <td>2016-08</td>\n      <td>C_ID_d639edf6cd</td>\n      <td>2</td>\n      <td>2</td>\n      <td>0</td>\n      <td>0.688056</td>\n    </tr>\n    <tr>\n      <th>3</th>\n      <td>2017-09</td>\n      <td>C_ID_186d6a6901</td>\n      <td>4</td>\n      <td>3</td>\n      <td>0</td>\n      <td>0.142495</td>\n    </tr>\n    <tr>\n      <th>4</th>\n      <td>2017-11</td>\n      <td>C_ID_cdbd2c0db2</td>\n      <td>1</td>\n      <td>3</td>\n      <td>0</td>\n      <td>-0.159749</td>\n    </tr>\n  </tbody>\n</table>\n</div>"
          },
          "metadata": {}
        }
      ]
    },
    {
      "metadata": {
        "trusted": true,
        "_uuid": "5e201be55e3eb2c82695b8c3b10ca5e5d7689b74"
      },
      "cell_type": "code",
      "source": "def cal_time(x):\n    if isinstance(x['first_active_month'], str):\n        d1 = datetime.datetime.strptime(x['first_active_month'],'%Y-%m')\n        d2 = datetime.datetime.strptime('2018-12','%Y-%m')\n        delta = d2 - d1\n    else:\n        return float('nan')\n\n    \n    return int(delta.days/30)\n",
      "execution_count": 4,
      "outputs": []
    },
    {
      "metadata": {
        "trusted": true,
        "_uuid": "0b7b166513250720aa196787f882a4e95496b396"
      },
      "cell_type": "code",
      "source": "train['time'] = train.apply(cal_time,axis=1)",
      "execution_count": 5,
      "outputs": []
    },
    {
      "metadata": {
        "trusted": true,
        "_uuid": "928edc7d2f61425f6d6e1201b5f29a8f25bb0c02"
      },
      "cell_type": "code",
      "source": "train_X = train[['feature_1','feature_2','feature_3','time']]\ntrain_y = train[['target']]\ntest['time'] = test.apply(cal_time,axis=1)\ntest_X = test[['feature_1','feature_2','feature_3','time']]\ntest.loc[11578,'time'] = 22",
      "execution_count": 6,
      "outputs": []
    },
    {
      "metadata": {
        "_uuid": "99ba713ed5ea701c3b9d9958c41164bbc11816a5"
      },
      "cell_type": "markdown",
      "source": "# historical_transactions"
    },
    {
      "metadata": {
        "trusted": true,
        "_uuid": "012ccc1041b0941aefb43621d1ee1b46cffd219c"
      },
      "cell_type": "code",
      "source": "ht.info()",
      "execution_count": 17,
      "outputs": [
        {
          "output_type": "stream",
          "text": "<class 'pandas.core.frame.DataFrame'>\nRangeIndex: 29112361 entries, 0 to 29112360\nData columns (total 14 columns):\nauthorized_flag         object\ncard_id                 object\ncity_id                 int64\ncategory_1              object\ninstallments            int64\ncategory_3              object\nmerchant_category_id    int64\nmerchant_id             object\nmonth_lag               int64\npurchase_amount         float64\npurchase_date           object\ncategory_2              float64\nstate_id                int64\nsubsector_id            int64\ndtypes: float64(2), int64(6), object(6)\nmemory usage: 3.0+ GB\n",
          "name": "stdout"
        }
      ]
    },
    {
      "metadata": {
        "trusted": true,
        "_uuid": "e0f42dbcfd6663e7f1d7b7b77801c065c6a8f502"
      },
      "cell_type": "code",
      "source": "ht.head()",
      "execution_count": 32,
      "outputs": [
        {
          "output_type": "execute_result",
          "execution_count": 32,
          "data": {
            "text/plain": "   authorized_flag          card_id     ...       state_id subsector_id\n0                1  C_ID_4e6213e9bc     ...             16           37\n1                1  C_ID_4e6213e9bc     ...             16           16\n2                1  C_ID_4e6213e9bc     ...             16           37\n3                1  C_ID_4e6213e9bc     ...             16           34\n4                1  C_ID_4e6213e9bc     ...             16           37\n\n[5 rows x 14 columns]",
            "text/html": "<div>\n<style scoped>\n    .dataframe tbody tr th:only-of-type {\n        vertical-align: middle;\n    }\n\n    .dataframe tbody tr th {\n        vertical-align: top;\n    }\n\n    .dataframe thead th {\n        text-align: right;\n    }\n</style>\n<table border=\"1\" class=\"dataframe\">\n  <thead>\n    <tr style=\"text-align: right;\">\n      <th></th>\n      <th>authorized_flag</th>\n      <th>card_id</th>\n      <th>city_id</th>\n      <th>category_1</th>\n      <th>installments</th>\n      <th>category_3</th>\n      <th>merchant_category_id</th>\n      <th>merchant_id</th>\n      <th>month_lag</th>\n      <th>purchase_amount</th>\n      <th>purchase_date</th>\n      <th>category_2</th>\n      <th>state_id</th>\n      <th>subsector_id</th>\n    </tr>\n  </thead>\n  <tbody>\n    <tr>\n      <th>0</th>\n      <td>1</td>\n      <td>C_ID_4e6213e9bc</td>\n      <td>88</td>\n      <td>N</td>\n      <td>0</td>\n      <td>A</td>\n      <td>80</td>\n      <td>M_ID_e020e9b302</td>\n      <td>-8</td>\n      <td>-0.703331</td>\n      <td>2017-06-25 15:33:07</td>\n      <td>1.0</td>\n      <td>16</td>\n      <td>37</td>\n    </tr>\n    <tr>\n      <th>1</th>\n      <td>1</td>\n      <td>C_ID_4e6213e9bc</td>\n      <td>88</td>\n      <td>N</td>\n      <td>0</td>\n      <td>A</td>\n      <td>367</td>\n      <td>M_ID_86ec983688</td>\n      <td>-7</td>\n      <td>-0.733128</td>\n      <td>2017-07-15 12:10:45</td>\n      <td>1.0</td>\n      <td>16</td>\n      <td>16</td>\n    </tr>\n    <tr>\n      <th>2</th>\n      <td>1</td>\n      <td>C_ID_4e6213e9bc</td>\n      <td>88</td>\n      <td>N</td>\n      <td>0</td>\n      <td>A</td>\n      <td>80</td>\n      <td>M_ID_979ed661fc</td>\n      <td>-6</td>\n      <td>-0.720386</td>\n      <td>2017-08-09 22:04:29</td>\n      <td>1.0</td>\n      <td>16</td>\n      <td>37</td>\n    </tr>\n    <tr>\n      <th>3</th>\n      <td>1</td>\n      <td>C_ID_4e6213e9bc</td>\n      <td>88</td>\n      <td>N</td>\n      <td>0</td>\n      <td>A</td>\n      <td>560</td>\n      <td>M_ID_e6d5ae8ea6</td>\n      <td>-5</td>\n      <td>-0.735352</td>\n      <td>2017-09-02 10:06:26</td>\n      <td>1.0</td>\n      <td>16</td>\n      <td>34</td>\n    </tr>\n    <tr>\n      <th>4</th>\n      <td>1</td>\n      <td>C_ID_4e6213e9bc</td>\n      <td>88</td>\n      <td>N</td>\n      <td>0</td>\n      <td>A</td>\n      <td>80</td>\n      <td>M_ID_e020e9b302</td>\n      <td>-11</td>\n      <td>-0.722865</td>\n      <td>2017-03-10 01:14:19</td>\n      <td>1.0</td>\n      <td>16</td>\n      <td>37</td>\n    </tr>\n  </tbody>\n</table>\n</div>"
          },
          "metadata": {}
        }
      ]
    },
    {
      "metadata": {
        "trusted": true,
        "_uuid": "61e615dfe262aefa202df635904bf171901137d1"
      },
      "cell_type": "code",
      "source": "ht_dict = pd.read_excel('../input/Data_Dictionary.xlsx', sheet_name='history')\nht_dict",
      "execution_count": 37,
      "outputs": [
        {
          "output_type": "execute_result",
          "execution_count": 37,
          "data": {
            "text/plain": "   historical_transactions.csv                                        Unnamed: 1\n0                          NaN                                               NaN\n1                      Columns                                       Description\n2                      card_id                                   Card identifier\n3                    month_lag                       month lag to reference date\n4                purchase_date                                     Purchase date\n5              authorized_flag                     Y' if approved, 'N' if denied\n6                   category_3                               anonymized category\n7                 installments                number of installments of purchase\n8                   category_1                               anonymized category\n9         merchant_category_id        Merchant category identifier (anonymized )\n10                subsector_id  Merchant category group identifier (anonymized )\n11                 merchant_id                  Merchant identifier (anonymized)\n12             purchase_amount                        Normalized purchase amount\n13                     city_id                     City identifier (anonymized )\n14                    state_id                    State identifier (anonymized )\n15                  category_2                               anonymized category",
            "text/html": "<div>\n<style scoped>\n    .dataframe tbody tr th:only-of-type {\n        vertical-align: middle;\n    }\n\n    .dataframe tbody tr th {\n        vertical-align: top;\n    }\n\n    .dataframe thead th {\n        text-align: right;\n    }\n</style>\n<table border=\"1\" class=\"dataframe\">\n  <thead>\n    <tr style=\"text-align: right;\">\n      <th></th>\n      <th>historical_transactions.csv</th>\n      <th>Unnamed: 1</th>\n    </tr>\n  </thead>\n  <tbody>\n    <tr>\n      <th>0</th>\n      <td>NaN</td>\n      <td>NaN</td>\n    </tr>\n    <tr>\n      <th>1</th>\n      <td>Columns</td>\n      <td>Description</td>\n    </tr>\n    <tr>\n      <th>2</th>\n      <td>card_id</td>\n      <td>Card identifier</td>\n    </tr>\n    <tr>\n      <th>3</th>\n      <td>month_lag</td>\n      <td>month lag to reference date</td>\n    </tr>\n    <tr>\n      <th>4</th>\n      <td>purchase_date</td>\n      <td>Purchase date</td>\n    </tr>\n    <tr>\n      <th>5</th>\n      <td>authorized_flag</td>\n      <td>Y' if approved, 'N' if denied</td>\n    </tr>\n    <tr>\n      <th>6</th>\n      <td>category_3</td>\n      <td>anonymized category</td>\n    </tr>\n    <tr>\n      <th>7</th>\n      <td>installments</td>\n      <td>number of installments of purchase</td>\n    </tr>\n    <tr>\n      <th>8</th>\n      <td>category_1</td>\n      <td>anonymized category</td>\n    </tr>\n    <tr>\n      <th>9</th>\n      <td>merchant_category_id</td>\n      <td>Merchant category identifier (anonymized )</td>\n    </tr>\n    <tr>\n      <th>10</th>\n      <td>subsector_id</td>\n      <td>Merchant category group identifier (anonymized )</td>\n    </tr>\n    <tr>\n      <th>11</th>\n      <td>merchant_id</td>\n      <td>Merchant identifier (anonymized)</td>\n    </tr>\n    <tr>\n      <th>12</th>\n      <td>purchase_amount</td>\n      <td>Normalized purchase amount</td>\n    </tr>\n    <tr>\n      <th>13</th>\n      <td>city_id</td>\n      <td>City identifier (anonymized )</td>\n    </tr>\n    <tr>\n      <th>14</th>\n      <td>state_id</td>\n      <td>State identifier (anonymized )</td>\n    </tr>\n    <tr>\n      <th>15</th>\n      <td>category_2</td>\n      <td>anonymized category</td>\n    </tr>\n  </tbody>\n</table>\n</div>"
          },
          "metadata": {}
        }
      ]
    },
    {
      "metadata": {
        "trusted": true,
        "_uuid": "3387048dd73c320859d9d79c12764ae8ef4f284d"
      },
      "cell_type": "code",
      "source": "ht['authorized_flag'] = ht.authorized_flag.map({'Y':1,'N':0})",
      "execution_count": 7,
      "outputs": []
    },
    {
      "metadata": {
        "trusted": true,
        "_uuid": "c58fe94b4997b3d24eef8652ac6d579625504925"
      },
      "cell_type": "code",
      "source": "ht['authorized_flag'].mean()",
      "execution_count": 21,
      "outputs": [
        {
          "output_type": "execute_result",
          "execution_count": 21,
          "data": {
            "text/plain": "0.9135450058482031"
          },
          "metadata": {}
        }
      ]
    },
    {
      "metadata": {
        "trusted": true,
        "_uuid": "52cdaf31d63fa8105521080f4a8333a69071014f"
      },
      "cell_type": "code",
      "source": "card_auth = ht.groupby(['card_id'])['authorized_flag'].mean().sort_values()",
      "execution_count": 29,
      "outputs": []
    },
    {
      "metadata": {
        "trusted": true,
        "_uuid": "7da8933064570269fe06f385568e4065170d9f1a"
      },
      "cell_type": "code",
      "source": "card_auth.head()",
      "execution_count": 31,
      "outputs": [
        {
          "output_type": "execute_result",
          "execution_count": 31,
          "data": {
            "text/plain": "card_id\nC_ID_744d26ea32    0.030488\nC_ID_bb8dd137c9    0.037037\nC_ID_e56202cd39    0.042105\nC_ID_4feacff118    0.050000\nC_ID_c27b4f80f7    0.054545\nName: authorized_flag, dtype: float64"
          },
          "metadata": {}
        }
      ]
    },
    {
      "metadata": {
        "trusted": true,
        "_uuid": "da46b4cd3a7504fc28dc8513ce1fa716112a2f79"
      },
      "cell_type": "code",
      "source": "ht.groupby(['card_id'])['installments'].mean().head()",
      "execution_count": 35,
      "outputs": [
        {
          "output_type": "execute_result",
          "execution_count": 35,
          "data": {
            "text/plain": "card_id\nC_ID_00007093c1    1.288591\nC_ID_0001238066    1.609756\nC_ID_0001506ef0    0.015152\nC_ID_0001793786    0.023148\nC_ID_000183fdda    1.833333\nName: installments, dtype: float64"
          },
          "metadata": {}
        }
      ]
    },
    {
      "metadata": {
        "trusted": true,
        "_uuid": "1308dc19ab99ce7e9851c118dae7e686e709a775"
      },
      "cell_type": "code",
      "source": "ht.groupby(['installments'])['authorized_flag'].mean()",
      "execution_count": 36,
      "outputs": [
        {
          "output_type": "execute_result",
          "execution_count": 36,
          "data": {
            "text/plain": "installments\n-1      0.885692\n 0      0.928032\n 1      0.907024\n 2      0.884020\n 3      0.862254\n 4      0.819903\n 5      0.809183\n 6      0.779732\n 7      0.693196\n 8      0.692439\n 9      0.663721\n 10     0.702021\n 11     0.660241\n 12     0.653694\n 999    0.031915\nName: authorized_flag, dtype: float64"
          },
          "metadata": {}
        }
      ]
    },
    {
      "metadata": {
        "trusted": true,
        "_uuid": "bacd4f2c4504d6164157626f67f494929c085036"
      },
      "cell_type": "code",
      "source": "ht['subsector_id'].value_counts().sort_values()",
      "execution_count": 40,
      "outputs": [
        {
          "output_type": "execute_result",
          "execution_count": 40,
          "data": {
            "text/plain": " 28        124\n 11       2009\n-1        2252\n 40      13424\n 24      18134\n 23      19724\n 14      21825\n 5       23171\n 13      23388\n 26      25140\n 35      39269\n 4       59102\n 9       77760\n 10      81954\n 3       87853\n 38      89005\n 2      110596\n 32     129516\n 17     132915\n 31     142945\n 22     179252\n 12     192067\n 41     196118\n 25     259053\n 39     259206\n 30     292335\n 20     299301\n 36     331696\n 18     395679\n 8      541510\n 15     665634\n 1      695263\n 7      711977\n 21     837612\n 16    1651384\n 27    1658301\n 34    2759431\n 29    2813095\n 19    3147440\n 37    4531755\n 33    5594146\nName: subsector_id, dtype: int64"
          },
          "metadata": {}
        }
      ]
    },
    {
      "metadata": {
        "trusted": true,
        "_uuid": "1081cddf32c1e4b3bedb3281a589af0339280c95"
      },
      "cell_type": "code",
      "source": "ht.groupby(['subsector_id'])['authorized_flag'].mean().sort_values().head()",
      "execution_count": 44,
      "outputs": [
        {
          "output_type": "execute_result",
          "execution_count": 44,
          "data": {
            "text/plain": "subsector_id\n 5     0.562945\n 8     0.637019\n 22    0.698603\n-1     0.712256\n 26    0.732100\nName: authorized_flag, dtype: float64"
          },
          "metadata": {}
        }
      ]
    },
    {
      "metadata": {
        "trusted": true,
        "_uuid": "2a610774a5cc74aef7ba0e09c435fc198452253e"
      },
      "cell_type": "code",
      "source": "ht.groupby(['city_id'])['authorized_flag'].mean().sort_values().head()",
      "execution_count": 45,
      "outputs": [
        {
          "output_type": "execute_result",
          "execution_count": 45,
          "data": {
            "text/plain": "city_id\n-1      0.776616\n 273    0.835484\n 92     0.846966\n 221    0.859252\n 266    0.863066\nName: authorized_flag, dtype: float64"
          },
          "metadata": {}
        }
      ]
    },
    {
      "metadata": {
        "trusted": true,
        "_uuid": "403995ad53bc8e6fb87d5f7e8d9d1de1811f4fe1"
      },
      "cell_type": "code",
      "source": "ht['category_1'].value_counts()",
      "execution_count": 50,
      "outputs": [
        {
          "output_type": "execute_result",
          "execution_count": 50,
          "data": {
            "text/plain": "N    27028332\nY     2084029\nName: category_1, dtype: int64"
          },
          "metadata": {}
        }
      ]
    },
    {
      "metadata": {
        "trusted": true,
        "_uuid": "47ef3e5b1574aa44331633794e61681e973f6108"
      },
      "cell_type": "code",
      "source": "ht['category_1'] = ht.category_1.map({'Y':1,'N':0})",
      "execution_count": 8,
      "outputs": []
    },
    {
      "metadata": {
        "trusted": true,
        "_uuid": "68655147511c4c41b4bb10f8e8e1ab11ea241186"
      },
      "cell_type": "code",
      "source": "ht['category_2'].value_counts()",
      "execution_count": 52,
      "outputs": [
        {
          "output_type": "execute_result",
          "execution_count": 52,
          "data": {
            "text/plain": "1.0    15177199\n3.0     3911795\n5.0     3725915\n4.0     2618053\n2.0     1026535\nName: category_2, dtype: int64"
          },
          "metadata": {}
        }
      ]
    },
    {
      "metadata": {
        "trusted": true,
        "_uuid": "83a218a346a72a84477a73addbbc06ae80207c87"
      },
      "cell_type": "code",
      "source": "ht['category_3'].value_counts()",
      "execution_count": 53,
      "outputs": [
        {
          "output_type": "execute_result",
          "execution_count": 53,
          "data": {
            "text/plain": "A    15411747\nB    11677522\nC     1844933\nName: category_3, dtype: int64"
          },
          "metadata": {}
        }
      ]
    },
    {
      "metadata": {
        "trusted": true,
        "_uuid": "27a61d5bf74227a0735c60de0c8c746ea803a5fe"
      },
      "cell_type": "code",
      "source": "ht['category_3'] = ht.category_3.map({'A':0,'B':1,'C':2,'nan':3})",
      "execution_count": 9,
      "outputs": []
    },
    {
      "metadata": {
        "trusted": true,
        "_uuid": "98963aff8a0ca22aea222e08c31584ec30910722"
      },
      "cell_type": "code",
      "source": "ht.head()",
      "execution_count": 3,
      "outputs": [
        {
          "output_type": "execute_result",
          "execution_count": 3,
          "data": {
            "text/plain": "  authorized_flag          card_id     ...       state_id subsector_id\n0               Y  C_ID_4e6213e9bc     ...             16           37\n1               Y  C_ID_4e6213e9bc     ...             16           16\n2               Y  C_ID_4e6213e9bc     ...             16           37\n3               Y  C_ID_4e6213e9bc     ...             16           34\n4               Y  C_ID_4e6213e9bc     ...             16           37\n\n[5 rows x 14 columns]",
            "text/html": "<div>\n<style scoped>\n    .dataframe tbody tr th:only-of-type {\n        vertical-align: middle;\n    }\n\n    .dataframe tbody tr th {\n        vertical-align: top;\n    }\n\n    .dataframe thead th {\n        text-align: right;\n    }\n</style>\n<table border=\"1\" class=\"dataframe\">\n  <thead>\n    <tr style=\"text-align: right;\">\n      <th></th>\n      <th>authorized_flag</th>\n      <th>card_id</th>\n      <th>city_id</th>\n      <th>category_1</th>\n      <th>installments</th>\n      <th>category_3</th>\n      <th>merchant_category_id</th>\n      <th>merchant_id</th>\n      <th>month_lag</th>\n      <th>purchase_amount</th>\n      <th>purchase_date</th>\n      <th>category_2</th>\n      <th>state_id</th>\n      <th>subsector_id</th>\n    </tr>\n  </thead>\n  <tbody>\n    <tr>\n      <th>0</th>\n      <td>Y</td>\n      <td>C_ID_4e6213e9bc</td>\n      <td>88</td>\n      <td>N</td>\n      <td>0</td>\n      <td>A</td>\n      <td>80</td>\n      <td>M_ID_e020e9b302</td>\n      <td>-8</td>\n      <td>-0.703331</td>\n      <td>2017-06-25 15:33:07</td>\n      <td>1.0</td>\n      <td>16</td>\n      <td>37</td>\n    </tr>\n    <tr>\n      <th>1</th>\n      <td>Y</td>\n      <td>C_ID_4e6213e9bc</td>\n      <td>88</td>\n      <td>N</td>\n      <td>0</td>\n      <td>A</td>\n      <td>367</td>\n      <td>M_ID_86ec983688</td>\n      <td>-7</td>\n      <td>-0.733128</td>\n      <td>2017-07-15 12:10:45</td>\n      <td>1.0</td>\n      <td>16</td>\n      <td>16</td>\n    </tr>\n    <tr>\n      <th>2</th>\n      <td>Y</td>\n      <td>C_ID_4e6213e9bc</td>\n      <td>88</td>\n      <td>N</td>\n      <td>0</td>\n      <td>A</td>\n      <td>80</td>\n      <td>M_ID_979ed661fc</td>\n      <td>-6</td>\n      <td>-0.720386</td>\n      <td>2017-08-09 22:04:29</td>\n      <td>1.0</td>\n      <td>16</td>\n      <td>37</td>\n    </tr>\n    <tr>\n      <th>3</th>\n      <td>Y</td>\n      <td>C_ID_4e6213e9bc</td>\n      <td>88</td>\n      <td>N</td>\n      <td>0</td>\n      <td>A</td>\n      <td>560</td>\n      <td>M_ID_e6d5ae8ea6</td>\n      <td>-5</td>\n      <td>-0.735352</td>\n      <td>2017-09-02 10:06:26</td>\n      <td>1.0</td>\n      <td>16</td>\n      <td>34</td>\n    </tr>\n    <tr>\n      <th>4</th>\n      <td>Y</td>\n      <td>C_ID_4e6213e9bc</td>\n      <td>88</td>\n      <td>N</td>\n      <td>0</td>\n      <td>A</td>\n      <td>80</td>\n      <td>M_ID_e020e9b302</td>\n      <td>-11</td>\n      <td>-0.722865</td>\n      <td>2017-03-10 01:14:19</td>\n      <td>1.0</td>\n      <td>16</td>\n      <td>37</td>\n    </tr>\n  </tbody>\n</table>\n</div>"
          },
          "metadata": {}
        }
      ]
    },
    {
      "metadata": {
        "trusted": true,
        "_uuid": "99551400a702e29e8a4c7961f448fca5f22cdff5"
      },
      "cell_type": "code",
      "source": "ht['purchase_date'] = pd.to_datetime(ht['purchase_date'])",
      "execution_count": 13,
      "outputs": []
    },
    {
      "metadata": {
        "trusted": true,
        "_uuid": "82437b900044022c83dc9995133160044593ab64"
      },
      "cell_type": "code",
      "source": "def feature_eng1(data,prefix):\n    data['purchase_month'] = data['purchase_date'].dt.month\n    data['month_diff'] = ((datetime.datetime.today() - data['purchase_date']).dt.days)//30\n    data['month_diff'] += data['month_lag']\n    data['installments'] = data['installments'].astype(int)\n    data.loc[:, 'purchase_date'] = pd.DatetimeIndex(data['purchase_date']). \\\n                                        astype(np.int64) * 1e-9\n    data = pd.get_dummies(data, columns=['category_2', 'category_3'])\n    agg_func = {\n        'authorized_flag': ['sum', 'mean'],\n        'category_1': ['sum', 'mean'],\n        'category_2_1.0': ['mean', 'sum'],\n        'category_2_2.0': ['mean', 'sum'],\n        'category_2_3.0': ['mean', 'sum'],\n        'category_2_4.0': ['mean', 'sum'],\n        'category_2_5.0': ['mean', 'sum'],\n        'category_3_1': ['sum', 'mean'],\n        'category_3_2': ['sum', 'mean'],\n        'category_3_3': ['sum', 'mean'],\n        'merchant_id': ['nunique'],\n        'purchase_amount': ['sum', 'mean', 'max', 'min', 'std'],\n        'installments': ['sum', 'mean', 'max', 'min', 'std'],\n        'purchase_month': ['mean', 'max', 'min', 'std'],\n        'purchase_date': [np.ptp, 'max', 'min'],\n        'month_lag': ['min', 'max'],\n        'merchant_category_id': ['nunique'],\n        'state_id': ['nunique'],\n        'subsector_id': ['nunique'],\n        'city_id': ['nunique'],\n        'month_diff': ['min', 'max', 'mean']\n    }\n    agg_trans = data.groupby(['card_id']).agg(agg_func)\n    agg_trans.columns = [prefix + '_'.join(col).strip() for col in agg_trans.columns.values]\n    agg_trans.reset_index(inplace=True)\n\n    df = (data.groupby('card_id')\n          .size()\n          .reset_index(name='{}transactions_count'.format(prefix)))\n\n    agg_trans = pd.merge(df, agg_trans, on='card_id', how='left')\n\n    return agg_trans",
      "execution_count": 15,
      "outputs": []
    },
    {
      "metadata": {
        "trusted": true,
        "_uuid": "303956a952fb7d5d429c44328d4207fbde04a6e7"
      },
      "cell_type": "code",
      "source": "import gc",
      "execution_count": 11,
      "outputs": []
    },
    {
      "metadata": {
        "trusted": true,
        "_uuid": "4ac55b7a920abc96ade5faeee268ec4ef5edabdc"
      },
      "cell_type": "code",
      "source": "def reduce_mem_usage(props):\n    start_mem_usg = props.memory_usage().sum() / 1024**2 \n    print(\"Memory usage of properties dataframe is :\",start_mem_usg,\" MB\")\n    NAlist = [] # Keeps track of columns that have missing values filled in. \n    for col in props.columns:\n        if props[col].dtype != object:  # Exclude strings\n            \n            # Print current column type\n            print(\"******************************\")\n            print(\"Column: \",col)\n            print(\"dtype before: \",props[col].dtype)\n            \n            # make variables for Int, max and min\n            IsInt = False\n            mx = props[col].max()\n            mn = props[col].min()\n            \n            # Integer does not support NA, therefore, NA needs to be filled\n            if not np.isfinite(props[col]).all(): \n                NAlist.append(col)\n                props[col].fillna(mn-1,inplace=True)  \n                   \n            # test if column can be converted to an integer\n            asint = props[col].fillna(0).astype(np.int64)\n            result = (props[col] - asint)\n            result = result.sum()\n            if result > -0.01 and result < 0.01:\n                IsInt = True\n\n            \n            # Make Integer/unsigned Integer datatypes\n            if IsInt:\n                if mn >= 0:\n                    if mx < 255:\n                        props[col] = props[col].astype(np.uint8)\n                    elif mx < 65535:\n                        props[col] = props[col].astype(np.uint16)\n                    elif mx < 4294967295:\n                        props[col] = props[col].astype(np.uint32)\n                    else:\n                        props[col] = props[col].astype(np.uint64)\n                else:\n                    if mn > np.iinfo(np.int8).min and mx < np.iinfo(np.int8).max:\n                        props[col] = props[col].astype(np.int8)\n                    elif mn > np.iinfo(np.int16).min and mx < np.iinfo(np.int16).max:\n                        props[col] = props[col].astype(np.int16)\n                    elif mn > np.iinfo(np.int32).min and mx < np.iinfo(np.int32).max:\n                        props[col] = props[col].astype(np.int32)\n                    elif mn > np.iinfo(np.int64).min and mx < np.iinfo(np.int64).max:\n                        props[col] = props[col].astype(np.int64)    \n            \n            # Make float datatypes 32 bit\n            else:\n                props[col] = props[col].astype(np.float32)\n            \n            # Print new column type\n            print(\"dtype after: \",props[col].dtype)\n            print(\"******************************\")\n    \n    # Print final result\n    print(\"___MEMORY USAGE AFTER COMPLETION:___\")\n    mem_usg = props.memory_usage().sum() / 1024**2 \n    print(\"Memory usage is: \",mem_usg,\" MB\")\n    print(\"This is \",100*mem_usg/start_mem_usg,\"% of the initial size\")\n    return props, NAlist",
      "execution_count": 61,
      "outputs": []
    },
    {
      "metadata": {
        "trusted": true,
        "_uuid": "ef5604d8034dc020e4817ba9464b2b44d06754c6"
      },
      "cell_type": "code",
      "source": "gc.collect()\nhistory = feature_eng1(ht, prefix='hist_')\nge.collect()\n",
      "execution_count": null,
      "outputs": []
    },
    {
      "metadata": {
        "trusted": true,
        "_uuid": "9d6be5224d3c08f68b6ea7e33de75a9b32243936"
      },
      "cell_type": "code",
      "source": "",
      "execution_count": null,
      "outputs": []
    }
  ],
  "metadata": {
    "kernelspec": {
      "display_name": "Python 3",
      "language": "python",
      "name": "python3"
    },
    "language_info": {
      "name": "python",
      "version": "3.6.6",
      "mimetype": "text/x-python",
      "codemirror_mode": {
        "name": "ipython",
        "version": 3
      },
      "pygments_lexer": "ipython3",
      "nbconvert_exporter": "python",
      "file_extension": ".py"
    }
  },
  "nbformat": 4,
  "nbformat_minor": 1
}